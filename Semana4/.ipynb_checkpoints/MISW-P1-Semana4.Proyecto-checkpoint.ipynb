{
 "cells": [
  {
   "cell_type": "markdown",
   "metadata": {
    "id": "YLE3Y7VOPn3G"
   },
   "source": [
    "# Proyecto 1: Entendimiento de los datos con PySpark"
   ]
  },
  {
   "cell_type": "markdown",
   "metadata": {},
   "source": [
    "## Configuración e importe de paquetes\n",
    "Se utilizará el paquete de pandas profiling para apoyar el análisis estadístico, y se importan los paquetes de python\n",
    "necesarios"
   ]
  },
  {
   "cell_type": "code",
   "execution_count": 21,
   "metadata": {},
   "outputs": [],
   "source": [
    "from pyspark.sql import SparkSession\n",
    "from pyspark.sql import functions\n",
    "from pyspark.sql.types import StructType\n",
    "from pyspark import SparkContext, SparkConf, SQLContext\n",
    "from pyspark.sql.types import FloatType, StringType, IntegerType, DateType\n",
    "from pyspark.sql.functions import udf, col, length, isnan, when, count\n",
    "import pyspark.sql.functions as f\n",
    "import os \n",
    "from datetime import datetime\n",
    "from pyspark.sql import types as t\n",
    "from pandas_profiling import ProfileReport\n",
    "import matplotlib.pyplot as plt\n",
    "import numpy as np\n",
    "from collections import Counter"
   ]
  },
  {
   "cell_type": "code",
   "execution_count": null,
   "metadata": {},
   "outputs": [],
   "source": []
  },
  {
   "cell_type": "markdown",
   "metadata": {},
   "source": [
    "Configuración del controlador e inicio de sesion Spark\n",
    "\n"
   ]
  },
  {
   "cell_type": "code",
   "execution_count": 6,
   "metadata": {},
   "outputs": [],
   "source": [
    "path_jar_driver = 'C:\\legacyapps\\connectorj\\mysql-connector-java-8.4.0.jar'"
   ]
  },
  {
   "cell_type": "code",
   "execution_count": 7,
   "metadata": {},
   "outputs": [
    {
     "name": "stderr",
     "output_type": "stream",
     "text": [
      "C:\\Users\\icgodmem\\anaconda3\\envs\\tutoriales\\lib\\site-packages\\pyspark\\sql\\context.py:79: FutureWarning: Deprecated in 3.0.0. Use SparkSession.builder.getOrCreate() instead.\n",
      "  FutureWarning\n"
     ]
    }
   ],
   "source": [
    "#Configuración de la sesión\n",
    "conf=SparkConf() \\\n",
    "    .set('spark.driver.extraClassPath', path_jar_driver)\n",
    "\n",
    "spark_context = SparkContext(conf=conf)\n",
    "sql_context = SQLContext(spark_context)\n",
    "spark = sql_context.sparkSession"
   ]
  },
  {
   "cell_type": "code",
   "execution_count": 8,
   "metadata": {},
   "outputs": [],
   "source": [
    "# Si quiere practicar la conexion con el servidor de base de datos:\n",
    "db_connection_string = 'jdbc:mysql://157.253.236.116:8080/WWImportersTransactional'\n",
    "# El usuario es su estudiante _i asignado y su contraseña la encontrará en el archivo excel de Coursera \n",
    "db_user = 'Estudiante_71_202413'\n",
    "db_psswd = 'MISO_aabb1122'\n",
    "\n",
    "PATH='./'"
   ]
  },
  {
   "cell_type": "markdown",
   "metadata": {},
   "source": [
    "### Conexión a fuente de datos y acceso a los datos"
   ]
  },
  {
   "cell_type": "markdown",
   "metadata": {},
   "source": [
    "#### Conexión a fuente de datos\n",
    "A continuación encuentra las funciones para conectarse a la fuente de datos (archivo csv o base de datos) y retornar un dataframe que es el que se utilizará posteriormente para manipular los datos."
   ]
  },
  {
   "cell_type": "code",
   "execution_count": 9,
   "metadata": {},
   "outputs": [],
   "source": [
    "def obtener_dataframe_de_bd(db_connection_string, sql, db_user, db_psswd):\n",
    "    df_bd = spark.read.format('jdbc')\\\n",
    "        .option('url', db_connection_string) \\\n",
    "        .option('dbtable', sql) \\\n",
    "        .option('user', db_user) \\\n",
    "        .option('password', db_psswd) \\\n",
    "        .option('driver', 'com.mysql.cj.jdbc.Driver') \\\n",
    "        .load()\n",
    "    return df_bd"
   ]
  },
  {
   "cell_type": "markdown",
   "metadata": {},
   "source": [
    "### Resumen"
   ]
  },
  {
   "cell_type": "markdown",
   "metadata": {},
   "source": [
    "A partir de los resultados de actividades previas, debes hacer el entendimiento de los datos de una fuente de datos. El detalle lo encuentras en la guía de la tarea del entendimiento de los datos.  Utiliza  como ejemplo la infografía compartida del tema de entendimiento de datos. "
   ]
  },
  {
   "cell_type": "markdown",
   "metadata": {},
   "source": [
    "### Completitud del perfilamiento de datos (40 puntos)\n",
    "\n"
   ]
  },
  {
   "cell_type": "markdown",
   "metadata": {},
   "source": [
    "#### Cargue de datos\n",
    "Para consultar desde la base de datos se puede acceder directamente a la tabla dado su nombre o se puede especificar la sentencia SQL de un \"SELECT\" completo para traer la información total o parcial de la tabla que se requiere. A continuación un ejemplo de cada uno de estos usos. \n",
    "Acceso directo para el caso de órdenes y acceso con sentencia SQL para el caso de movimientosCopia."
   ]
  },
  {
   "cell_type": "code",
   "execution_count": 10,
   "metadata": {
    "tags": []
   },
   "outputs": [],
   "source": [
    "sql_proyecciones = 'ProyectoTransaccional.proyeccionesCopia'"
   ]
  },
  {
   "cell_type": "code",
   "execution_count": 102,
   "metadata": {},
   "outputs": [],
   "source": [
    "sql_pib = 'ProyectoTransaccional.PIBCopia'"
   ]
  },
  {
   "cell_type": "code",
   "execution_count": 103,
   "metadata": {},
   "outputs": [],
   "source": [
    "sql_divipola = 'ProyectoTransaccional.divipolaCopia'"
   ]
  },
  {
   "cell_type": "markdown",
   "metadata": {},
   "source": [
    "## Tabla proyeccionesCopia"
   ]
  },
  {
   "cell_type": "code",
   "execution_count": 12,
   "metadata": {},
   "outputs": [
    {
     "name": "stdout",
     "output_type": "stream",
     "text": [
      "+----+---+---------+-------------+-------------+\n",
      "|Anio| DP|    DPNOM|Total Hombres|Total Mujeres|\n",
      "+----+---+---------+-------------+-------------+\n",
      "|2005| 25|antioquia|      2630787|      2830056|\n",
      "|2006| 25|antioquia|      2663957|      2864164|\n",
      "|2007| 25|antioquia|      2697202|      2897978|\n",
      "|2008| 25|antioquia|      2730505|      2931594|\n",
      "|2009| 25|antioquia|      2764235|      2966142|\n",
      "+----+---+---------+-------------+-------------+\n",
      "only showing top 5 rows\n",
      "\n"
     ]
    }
   ],
   "source": [
    "proyecciones = obtener_dataframe_de_bd(db_connection_string, sql_proyecciones, db_user, db_psswd)\n",
    "\n",
    "proyecciones.show(5)"
   ]
  },
  {
   "cell_type": "markdown",
   "metadata": {
    "tags": []
   },
   "source": [
    "## Tabla pibCopia"
   ]
  },
  {
   "cell_type": "code",
   "execution_count": 104,
   "metadata": {},
   "outputs": [
    {
     "name": "stdout",
     "output_type": "stream",
     "text": [
      "+----------------------------+-------------+-------+--------+--------------------+--------------------+--------+--------+--------------------+--------+\n",
      "|CodigoDepartamento(DIVIPOLA)|DEPARTAMENTOS|   2006|    2007|                2008|                2010|    2011|    2012|                2013|    2014|\n",
      "+----------------------------+-------------+-------+--------+--------------------+--------------------+--------+--------+--------------------+--------+\n",
      "|                          41|         uila|6895658| 7441987|   8686536.103258422|    9548624.85406653|11113741|11400169|1.1967750469189592E7|12755711|\n",
      "|                          18|     CaquetÃ¡|3575615| 4060678|   4519574.129383702|   5048396.606737779| 5516404| 6476778|    7161524.44383983| 7990249|\n",
      "|                           8|   AtlÃ¡ntico|7194985| 8299825|   8858405.054387597|   9481200.322350295|10288314|11421539|1.2434114309437651E7|13681473|\n",
      "|                          63|     QuindiÃ³|6350376| 6908084|  7449000.1041983375|   8274578.662692363| 9183441|10067779|1.0457303722966803E7|10917328|\n",
      "|                          76|     el valle|9364012|10568989|1.1278072598064829E7|1.2538425837418156E7|13461456|14347570|1.5262933073640093E7|16490649|\n",
      "+----------------------------+-------------+-------+--------+--------------------+--------------------+--------+--------+--------------------+--------+\n",
      "only showing top 5 rows\n",
      "\n"
     ]
    }
   ],
   "source": [
    "pib = obtener_dataframe_de_bd(db_connection_string, sql_pib, db_user, db_psswd)\n",
    "\n",
    "pib.show(5)"
   ]
  },
  {
   "cell_type": "markdown",
   "metadata": {},
   "source": [
    "## Tabla Divipola"
   ]
  },
  {
   "cell_type": "code",
   "execution_count": 106,
   "metadata": {},
   "outputs": [
    {
     "name": "stdout",
     "output_type": "stream",
     "text": [
      "+-------------------+----------------+---------------------+-------------------+----------------+---------------------+-------------------+--------------+--------------+---------------+----------------------------------------+-------------------------+\n",
      "|Código Departamento|Código Municipio|Código Centro Poblado|Nombre Departamento|Nombre Municipio|Nombre Centro Poblado|Tipo Centro Poblado|      Longitud|       Latitud|Nombre Distrito|Municipio/Áreas No Municipalizadas (ANM)|Nombre Área Metropolitana|\n",
      "+-------------------+----------------+---------------------+-------------------+----------------+---------------------+-------------------+--------------+--------------+---------------+----------------------------------------+-------------------------+\n",
      "|                 41|           91001|             91001033|           amazonas|           NEIVA| COMUNIDAD INDÍGEN...|     CENTRO POBLADO|-70.0285785394|-4.11198257304|               |                               MUNICIPIO|                         |\n",
      "|                 41|           91001|             91001005|           amazonas|           NEIVA| COMUNIDAD INDÍGEN...|     CENTRO POBLADO|-70.0539208267|-4.05305758964|               |                               MUNICIPIO|                         |\n",
      "|                 41|           91001|             91001026|           amazonas|           NEIVA| COMUNIDAD INDÍGEN...|     CENTRO POBLADO|-70.1657071533|  -3.956020168|               |                               MUNICIPIO|                         |\n",
      "|                 41|           91540|             91540004|           amazonas|           NEIVA|           NARANJALES|     CENTRO POBLADO|-70.5178943433|-3.86731728447|               |                               MUNICIPIO|                         |\n",
      "|                 41|           91001|             91001020|           amazonas|           NEIVA| COMUNIDAD INDÍGEN...|     CENTRO POBLADO|-70.2216413306|-3.84723456612|               |                               MUNICIPIO|                         |\n",
      "+-------------------+----------------+---------------------+-------------------+----------------+---------------------+-------------------+--------------+--------------+---------------+----------------------------------------+-------------------------+\n",
      "only showing top 5 rows\n",
      "\n"
     ]
    }
   ],
   "source": [
    "divipola = obtener_dataframe_de_bd(db_connection_string, sql_divipola, db_user, db_psswd)\n",
    "\n",
    "divipola.show(5)"
   ]
  },
  {
   "cell_type": "markdown",
   "metadata": {},
   "source": [
    "#### 1.1. Cantidad de registros y cantidad de columnas por tipo de dato\n"
   ]
  },
  {
   "cell_type": "markdown",
   "metadata": {},
   "source": [
    "#### Tabla proyeccionesCopia"
   ]
  },
  {
   "cell_type": "code",
   "execution_count": 15,
   "metadata": {},
   "outputs": [
    {
     "name": "stdout",
     "output_type": "stream",
     "text": [
      "registros = 330 columnas = 5\n"
     ]
    }
   ],
   "source": [
    "print(f\"registros = {proyecciones.count()}\", f\"columnas = {len(proyecciones.columns)}\")"
   ]
  },
  {
   "cell_type": "code",
   "execution_count": 19,
   "metadata": {},
   "outputs": [
    {
     "data": {
      "text/plain": [
       "StructType(List(StructField(Anio,IntegerType,true),StructField(DP,IntegerType,true),StructField(DPNOM,StringType,true),StructField(Total Hombres,IntegerType,true),StructField(Total Mujeres,IntegerType,true)))"
      ]
     },
     "execution_count": 19,
     "metadata": {},
     "output_type": "execute_result"
    }
   ],
   "source": [
    "proyecciones.schema"
   ]
  },
  {
   "cell_type": "code",
   "execution_count": 24,
   "metadata": {},
   "outputs": [
    {
     "data": {
      "text/plain": [
       "Counter({'int': 4, 'string': 1})"
      ]
     },
     "execution_count": 24,
     "metadata": {},
     "output_type": "execute_result"
    }
   ],
   "source": [
    "Counter([col[1] for col in proyecciones.dtypes])"
   ]
  },
  {
   "cell_type": "code",
   "execution_count": 26,
   "metadata": {},
   "outputs": [
    {
     "name": "stdout",
     "output_type": "stream",
     "text": [
      "(330, 5)\n"
     ]
    }
   ],
   "source": [
    "print((proyecciones.count(), len(proyecciones.columns)))"
   ]
  },
  {
   "cell_type": "markdown",
   "metadata": {},
   "source": [
    "Como se puede observar en la tabla proyecciones se tiene información acerca de los estimados de crecimiento de la poblacion de un lugar determinado, mas detalladamente se ve que se cuenta movimientos de productos, mas detalladamente se ve que se cuenta con el año, un codigo DP o identificador del departamento, el DPNOM o nombre de departamento y los totales proyectados de hombres y mujeres. Como se observa, en un principio, cada año cuenta con un valor para cada departamento y las cantidades de hombres y mujeres.\n",
    "\n",
    "Para obtener la cantidad de registros y numero de columnas de la tabla proyecciones, se utiliza count y column para el dataframe. En total se tienen 5 variables, 4 son de tipo entero y 1 es de tipo cadena de caracter. Se tiene un total de 330 registros."
   ]
  },
  {
   "cell_type": "markdown",
   "metadata": {},
   "source": [
    "#### Tabla pibCopia"
   ]
  },
  {
   "cell_type": "code",
   "execution_count": 17,
   "metadata": {},
   "outputs": [
    {
     "name": "stdout",
     "output_type": "stream",
     "text": [
      "registros = 27 columnas = 10\n"
     ]
    }
   ],
   "source": [
    "print(f\"registros = {pib.count()}\", f\"columnas = {len(pib.columns)}\")"
   ]
  },
  {
   "cell_type": "code",
   "execution_count": 18,
   "metadata": {},
   "outputs": [
    {
     "data": {
      "text/plain": [
       "StructType(List(StructField(CodigoDepartamento(DIVIPOLA),LongType,true),StructField(DEPARTAMENTOS,StringType,true),StructField(2006,LongType,true),StructField(2007,LongType,true),StructField(2008,DoubleType,true),StructField(2010,DoubleType,true),StructField(2011,LongType,true),StructField(2012,LongType,true),StructField(2013,DoubleType,true),StructField(2014,LongType,true)))"
      ]
     },
     "execution_count": 18,
     "metadata": {},
     "output_type": "execute_result"
    }
   ],
   "source": [
    "pib.schema"
   ]
  },
  {
   "cell_type": "code",
   "execution_count": 27,
   "metadata": {},
   "outputs": [
    {
     "data": {
      "text/plain": [
       "Counter({'bigint': 6, 'string': 1, 'double': 3})"
      ]
     },
     "execution_count": 27,
     "metadata": {},
     "output_type": "execute_result"
    }
   ],
   "source": [
    "Counter([col[1] for col in pib.dtypes])"
   ]
  },
  {
   "cell_type": "code",
   "execution_count": 28,
   "metadata": {},
   "outputs": [
    {
     "name": "stdout",
     "output_type": "stream",
     "text": [
      "(27, 10)\n"
     ]
    }
   ],
   "source": [
    "print((pib.count(), len(pib.columns)))"
   ]
  },
  {
   "cell_type": "markdown",
   "metadata": {},
   "source": [
    "Como se puede observar en la tabla pib se tiene información acerca del producto interno bruto (PIB) correspondiente a diferentes departamentos a lo largo de diferentes años como lo son 2006, 2007, 2008, 2010, 2011, 2012, 2013 y donde a su vez cada departamento tiene asociado un codigo departamento que viene de la tabla DIVIPOLA.\n",
    "\n",
    "Para obtener la cantidad de registros y numero de columnas de la tabla pib, se utiliza count y column para el dataframe. En total se tienen 10 variables, 6 son de tipo numerico y 1 es de tipo cadena de caracter y 3 son de tipo decimal. Se tiene un total de 27 registros."
   ]
  },
  {
   "cell_type": "markdown",
   "metadata": {},
   "source": [
    "Para obtener la cantidad de registros y numero de columnas de la tabla movimientos, se utiliza count y column para el dataframe"
   ]
  },
  {
   "cell_type": "markdown",
   "metadata": {},
   "source": [
    "#### 1.2. Significado de una fila\n"
   ]
  },
  {
   "cell_type": "markdown",
   "metadata": {},
   "source": [
    "#### Tabla proyeccionesCopia"
   ]
  },
  {
   "cell_type": "markdown",
   "metadata": {},
   "source": [
    "Para describir el significado de una fila en la tabla de proyecciones, se mostraran algunos registros y se realizara un agrupamiento utilizando alguna de las llaves foraneas si existen de la tabla proyecciones, en este caso no se ven llaves foraneas pero se podria agrupar por la columna año"
   ]
  },
  {
   "cell_type": "code",
   "execution_count": 29,
   "metadata": {},
   "outputs": [
    {
     "name": "stdout",
     "output_type": "stream",
     "text": [
      "+----+---+---------+-------------+-------------+\n",
      "|Anio| DP|    DPNOM|Total Hombres|Total Mujeres|\n",
      "+----+---+---------+-------------+-------------+\n",
      "|2005| 25|antioquia|      2630787|      2830056|\n",
      "|2006| 25|antioquia|      2663957|      2864164|\n",
      "|2007| 25|antioquia|      2697202|      2897978|\n",
      "|2008| 25|antioquia|      2730505|      2931594|\n",
      "|2009| 25|antioquia|      2764235|      2966142|\n",
      "+----+---+---------+-------------+-------------+\n",
      "only showing top 5 rows\n",
      "\n",
      "+----+-----+\n",
      "|Anio|count|\n",
      "+----+-----+\n",
      "|2007|   33|\n",
      "|2006|   33|\n",
      "|2013|   33|\n",
      "|2014|   33|\n",
      "|2012|   33|\n",
      "+----+-----+\n",
      "only showing top 5 rows\n",
      "\n"
     ]
    }
   ],
   "source": [
    "proyecciones.show(5)\n",
    "proyecciones.groupby(\"Anio\").count().orderBy(\"count\", ascending=False).show(5)"
   ]
  },
  {
   "cell_type": "code",
   "execution_count": 30,
   "metadata": {},
   "outputs": [
    {
     "name": "stdout",
     "output_type": "stream",
     "text": [
      "+----+---+------------+-------------+-------------+\n",
      "|Anio| DP|       DPNOM|Total Hombres|Total Mujeres|\n",
      "+----+---+------------+-------------+-------------+\n",
      "|2007| 25|   antioquia|      2697202|      2897978|\n",
      "|2007| 25|   atlantico|      1055195|      1119793|\n",
      "|2007| 25|bogota, d.c.|      3312248|      3572321|\n",
      "|2007| 25|     bolivar|       912524|       933439|\n",
      "|2007| 25|      boyaca|       562966|       586943|\n",
      "+----+---+------------+-------------+-------------+\n",
      "only showing top 5 rows\n",
      "\n"
     ]
    }
   ],
   "source": [
    "proyecciones.filter(proyecciones[\"Anio\"] == 2007).show(5)"
   ]
  },
  {
   "cell_type": "markdown",
   "metadata": {},
   "source": [
    "Con el resultado de las consultas se puede concluir que una fila en la tabla de proyecciones representa un dato estimado del crecimiento que tendra la población de un determinado lugar en un año especifico. Cada año como se observa puede tener los datos de diferentes departamentos separando las proyección de crecimiento tanto para hombre y mujeres. Hay un dato que en principio parece constante, el cual es la columna DP que en analisis posteriores se verificara individualmente."
   ]
  },
  {
   "cell_type": "markdown",
   "metadata": {},
   "source": [
    "#### Tabla pibCopia"
   ]
  },
  {
   "cell_type": "markdown",
   "metadata": {},
   "source": [
    "Para describir el significado de una fila en la tabla de pib, se mostraran algunos registros y se realizara un agrupamiento utilizando alguna de las llaves foraneas si existen de la tabla pib, en este caso se la llave CodigoDepartamento que viene de la tabla divipola."
   ]
  },
  {
   "cell_type": "code",
   "execution_count": 32,
   "metadata": {},
   "outputs": [
    {
     "name": "stdout",
     "output_type": "stream",
     "text": [
      "+----------------------------+-------------+-------+--------+--------------------+--------------------+--------+--------+--------------------+--------+\n",
      "|CodigoDepartamento(DIVIPOLA)|DEPARTAMENTOS|   2006|    2007|                2008|                2010|    2011|    2012|                2013|    2014|\n",
      "+----------------------------+-------------+-------+--------+--------------------+--------------------+--------+--------+--------------------+--------+\n",
      "|                          41|         uila|6895658| 7441987|   8686536.103258422|    9548624.85406653|11113741|11400169|1.1967750469189592E7|12755711|\n",
      "|                          18|     CaquetÃ¡|3575615| 4060678|   4519574.129383702|   5048396.606737779| 5516404| 6476778|    7161524.44383983| 7990249|\n",
      "|                           8|   AtlÃ¡ntico|7194985| 8299825|   8858405.054387597|   9481200.322350295|10288314|11421539|1.2434114309437651E7|13681473|\n",
      "|                          63|     QuindiÃ³|6350376| 6908084|  7449000.1041983375|   8274578.662692363| 9183441|10067779|1.0457303722966803E7|10917328|\n",
      "|                          76|     el valle|9364012|10568989|1.1278072598064829E7|1.2538425837418156E7|13461456|14347570|1.5262933073640093E7|16490649|\n",
      "+----------------------------+-------------+-------+--------+--------------------+--------------------+--------+--------+--------------------+--------+\n",
      "only showing top 5 rows\n",
      "\n",
      "+----------------------------+-----+\n",
      "|CodigoDepartamento(DIVIPOLA)|count|\n",
      "+----------------------------+-----+\n",
      "|                          41|    2|\n",
      "|                          23|    2|\n",
      "|                           8|    2|\n",
      "|                          76|    2|\n",
      "|                          18|    2|\n",
      "+----------------------------+-----+\n",
      "only showing top 5 rows\n",
      "\n"
     ]
    }
   ],
   "source": [
    "pib.show(5)\n",
    "pib.groupby(\"CodigoDepartamento(DIVIPOLA)\").count().orderBy(\"count\", ascending=False).show(5)"
   ]
  },
  {
   "cell_type": "code",
   "execution_count": 33,
   "metadata": {},
   "outputs": [
    {
     "name": "stdout",
     "output_type": "stream",
     "text": [
      "+----------------------------+-------------+-------+-------+-----------------+-----------------+-------+-------+----------------+-------+\n",
      "|CodigoDepartamento(DIVIPOLA)|DEPARTAMENTOS|   2006|   2007|             2008|             2010|   2011|   2012|            2013|   2014|\n",
      "+----------------------------+-------------+-------+-------+-----------------+-----------------+-------+-------+----------------+-------+\n",
      "|                          18|     CaquetÃ¡|3575615|4060678|4519574.129383702|5048396.606737779|5516404|6476778|7161524.44383983|7990249|\n",
      "|                          18|     CaquetÃ¡|3575615|4060678|4519574.129383702|5048396.606737779|5516404|6476778|7161524.44383983|7990249|\n",
      "+----------------------------+-------------+-------+-------+-----------------+-----------------+-------+-------+----------------+-------+\n",
      "\n"
     ]
    }
   ],
   "source": [
    "pib.filter(pib[\"CodigoDepartamento(DIVIPOLA)\"] == 18).show(5)"
   ]
  },
  {
   "cell_type": "markdown",
   "metadata": {},
   "source": [
    "Con el resultado de las consultas se puede concluir que una fila en la tabla de pib representa un dato de la evolución a lo largo del tiempo del producto interno bruto de un departamento determinado, donde se detalla a su vez el codigo del departamento registrado. Se observa además, que cada codigo y departamento aparece más de una vez, por lo cual estos registros se incluiran en analisis posteriores."
   ]
  },
  {
   "cell_type": "markdown",
   "metadata": {},
   "source": [
    "#### 1.3 Estadisticas descriptivas por columna (numérica, categórica, fechas) "
   ]
  },
  {
   "cell_type": "markdown",
   "metadata": {},
   "source": [
    "#### Tabla proyeccionesCopia"
   ]
  },
  {
   "cell_type": "markdown",
   "metadata": {},
   "source": [
    "Para la generación de las estadísticas descriptivas por columna de la tabla de proyecciones, se ejecuta el comando de summary"
   ]
  },
  {
   "cell_type": "code",
   "execution_count": 36,
   "metadata": {},
   "outputs": [
    {
     "name": "stdout",
     "output_type": "stream",
     "text": [
      "+-------+-----------------+----+--------+-----------------+------------------+\n",
      "|summary|             Anio|  DP|   DPNOM|    Total Hombres|     Total Mujeres|\n",
      "+-------+-----------------+----+--------+-----------------+------------------+\n",
      "|  count|              330| 330|     330|              330|               330|\n",
      "|   mean|           2009.5|25.0|    null|650666.4242424242| 843740.4454545454|\n",
      "| stddev|2.876643180486918| 0.0|    null|751024.7851013226|3097897.0672473223|\n",
      "|    min|             2005|  25|amazonas|            13825|             11636|\n",
      "|    25%|             2007|  25|    null|           173396|            170374|\n",
      "|    50%|             2009|  25|    null|           477977|            489035|\n",
      "|    75%|             2012|  25|    null|           777720|            795592|\n",
      "|    max|             2014|  25| vichada|          3476538|          55000000|\n",
      "+-------+-----------------+----+--------+-----------------+------------------+\n",
      "\n"
     ]
    }
   ],
   "source": [
    "proyecciones.summary().show()"
   ]
  },
  {
   "cell_type": "code",
   "execution_count": 37,
   "metadata": {},
   "outputs": [
    {
     "name": "stdout",
     "output_type": "stream",
     "text": [
      "+----+---+---------------+-------------+-------------+\n",
      "|Anio| DP|          DPNOM|Total Hombres|Total Mujeres|\n",
      "+----+---+---------------+-------------+-------------+\n",
      "|2014| 25|valle del cauca|      2110069|      2281395|\n",
      "+----+---+---------------+-------------+-------------+\n",
      "\n"
     ]
    }
   ],
   "source": [
    "proyecciones.filter(proyecciones[\"Anio\"] == 2014).filter(proyecciones[\"DPNOM\"] == \"valle del cauca\").show(5)"
   ]
  },
  {
   "cell_type": "markdown",
   "metadata": {},
   "source": [
    "En las estadísticas anteriores vemos que el conteo de todas las columnas da un total de 330, es decir son columnas con algun tipo de contenido por lo cual No se puede eliminar de momento ninguna columna del set de datos, tambien se observa que se realiza el calculo de la media para la columna categoria DPNOM o nombre departamento, sin embargo como los datos son diferentes no tiene sentido calcular la media o desviación estandar, o los percentiles, por lo cual el valor aparece en null.\n",
    "Se puede ver para la Columna Anio que al ser valores numericos se realizan los calculos estadisticos, sin embargo la media sin ser un año exacto carece de sentido. Si embargo, los datos de minimo y maximo con valores de 2005 y 20014 nos sirven para acotar el periodo de año de la información registrada.\n",
    "Se empieza a ver inconsistencias en la regla # 2 que indica que la información de la tabla proyecciones va desde 2005 hasta 2015 y en lo que se ve solo se tienen datos hasta 2014. Por lo cual se reportara esta situación al negocio. La información de proyecciones va hasta el 2015? o hace falta la informacion de ese año?\n",
    "\n",
    "DP: Según el diccionario de datos esta columna representa el identificador del departamento, sin embargo, se observa que hay distintos departamentos y todos tienen el mismo código, por lo cual se validara con el negocio esta información.\n",
    "El codigo de departamento DP es diferente para cada departamento en la tabla proyecciones? Si es asi, cual es el valor de DP para cada departamento?\n",
    "\n",
    "Analizando la busqueda filtrada de proyecciones para el departamento valle del cauca del año 2014 para total de hombres, se que es la misma cantidad indicada por la regla # 3 o 2110069, por lo cual esta regla es correcta.\n",
    "\n",
    "Total Hombres: Se tiene una media de 650666 para la proyección de hombres, sin embargo la desviación estandar es elevada con un valor de 751024 lo cual es esperado para datos poryectados los cuales pueden crecer de forma exponencial en el tiempo.\n",
    "\n",
    "Total Mujeres: Se tiene una media de 843740 para la proyección de mujeres, sin embargo la desviación estandar es elevada con un valor de 3097897 lo cual es esperado para datos poryectados los cuales pueden crecer de forma exponencial en el tiempo.\n"
   ]
  },
  {
   "cell_type": "markdown",
   "metadata": {},
   "source": [
    "Ahora vamos a revisar el formato de la columna Anio"
   ]
  },
  {
   "cell_type": "code",
   "execution_count": 64,
   "metadata": {},
   "outputs": [
    {
     "name": "stdout",
     "output_type": "stream",
     "text": [
      "Número total de proyecciones: 330, número de proyecciones con formato correcto: 330\n",
      "Número total de proyecciones: 330, número de proyecciones con formato Incorrecto: 0\n",
      "Número total de proyecciones: 330, número de proyecciones en null: 0\n",
      "+----+---+-----+-------------+-------------+\n",
      "|Anio| DP|DPNOM|Total Hombres|Total Mujeres|\n",
      "+----+---+-----+-------------+-------------+\n",
      "+----+---+-----+-------------+-------------+\n",
      "\n",
      "+----+---+-----+-------------+-------------+\n",
      "|Anio| DP|DPNOM|Total Hombres|Total Mujeres|\n",
      "+----+---+-----+-------------+-------------+\n",
      "+----+---+-----+-------------+-------------+\n",
      "\n"
     ]
    }
   ],
   "source": [
    "regex = \"(0[1-9]|[1-2][0-9]|3[0-1])\"\n",
    "totalRegistros = proyecciones.count()\n",
    "cumplenFormato = proyecciones.filter(proyecciones[\"Anio\"].rlike(regex))\n",
    "noCumplenFormato = proyecciones.filter(~proyecciones[\"Anio\"].rlike(regex))\n",
    "nullFecha = proyecciones.filter(proyecciones[\"Anio\"].isNull())\n",
    "print(\"Número total de proyecciones: \"+str(totalRegistros)+\", número de proyecciones con formato correcto: \"+str(cumplenFormato.count()))\n",
    "print(\"Número total de proyecciones: \"+str(totalRegistros)+\", número de proyecciones con formato Incorrecto: \"+str(noCumplenFormato.count()))\n",
    "print(\"Número total de proyecciones: \"+str(totalRegistros)+\", número de proyecciones en null: \"+str(nullFecha.count()))\n",
    "noCumplenFormato.show(10)\n",
    "nullFecha.show(10)"
   ]
  },
  {
   "cell_type": "markdown",
   "metadata": {},
   "source": [
    "Se observa que los años tienen el formato correcto."
   ]
  },
  {
   "cell_type": "code",
   "execution_count": 73,
   "metadata": {},
   "outputs": [
    {
     "data": {
      "text/plain": [
       "{'whiskers': [<matplotlib.lines.Line2D at 0x1ecbe045948>,\n",
       "  <matplotlib.lines.Line2D at 0x1ecbe048048>],\n",
       " 'caps': [<matplotlib.lines.Line2D at 0x1ecbe048148>,\n",
       "  <matplotlib.lines.Line2D at 0x1ecbe048348>],\n",
       " 'boxes': [<matplotlib.lines.Line2D at 0x1ecbe045088>],\n",
       " 'medians': [<matplotlib.lines.Line2D at 0x1ecbe04f388>],\n",
       " 'fliers': [<matplotlib.lines.Line2D at 0x1ecbe048e08>],\n",
       " 'means': []}"
      ]
     },
     "execution_count": 73,
     "metadata": {},
     "output_type": "execute_result"
    },
    {
     "data": {
      "image/png": "[encoded data removed]",
      "text/plain": [
       "<Figure size 432x288 with 1 Axes>"
      ]
     },
     "metadata": {
      "needs_background": "light"
     },
     "output_type": "display_data"
    }
   ],
   "source": [
    "%matplotlib inline\n",
    "import matplotlib.pyplot as plt\n",
    "\n",
    "fig1, ax1 = plt.subplots()\n",
    "ax1.set_title('Total Hombres')\n",
    "ax1.boxplot(np.array(proyecciones.select('Total Hombres').collect()))"
   ]
  },
  {
   "cell_type": "markdown",
   "metadata": {},
   "source": [
    "Obseranvando el diagrama de caja para la columna hombres, se encuentra que los datos estan distribuidos y no se observan valores atipicos."
   ]
  },
  {
   "cell_type": "code",
   "execution_count": 74,
   "metadata": {},
   "outputs": [
    {
     "data": {
      "text/plain": [
       "{'whiskers': [<matplotlib.lines.Line2D at 0x1ecbdf87ac8>,\n",
       "  <matplotlib.lines.Line2D at 0x1ecbdf8c1c8>],\n",
       " 'caps': [<matplotlib.lines.Line2D at 0x1ecbdf8c2c8>,\n",
       "  <matplotlib.lines.Line2D at 0x1ecbdf8ce88>],\n",
       " 'boxes': [<matplotlib.lines.Line2D at 0x1ecbdf87208>],\n",
       " 'medians': [<matplotlib.lines.Line2D at 0x1ecbdf904c8>],\n",
       " 'fliers': [<matplotlib.lines.Line2D at 0x1ecbdf8cf48>],\n",
       " 'means': []}"
      ]
     },
     "execution_count": 74,
     "metadata": {},
     "output_type": "execute_result"
    },
    {
     "data": {
      "image/png": "[encoded data removed]",
      "text/plain": [
       "<Figure size 432x288 with 1 Axes>"
      ]
     },
     "metadata": {
      "needs_background": "light"
     },
     "output_type": "display_data"
    }
   ],
   "source": [
    "%matplotlib inline\n",
    "import matplotlib.pyplot as plt\n",
    "\n",
    "fig1, ax1 = plt.subplots()\n",
    "ax1.set_title('Total Mujeres')\n",
    "ax1.boxplot(np.array(proyecciones.select('Total Mujeres').collect()))"
   ]
  },
  {
   "cell_type": "markdown",
   "metadata": {},
   "source": [
    "Obseranvando el diagrama de caja para la columna total mujeres, se encuentran valores atipicos que deberan ser aclarados con el negocio."
   ]
  },
  {
   "cell_type": "code",
   "execution_count": 76,
   "metadata": {},
   "outputs": [
    {
     "name": "stdout",
     "output_type": "stream",
     "text": [
      "+----+---+-------+-------------+-------------+\n",
      "|Anio| DP|  DPNOM|Total Hombres|Total Mujeres|\n",
      "+----+---+-------+-------------+-------------+\n",
      "|2009| 25|vichada|        47300|     55000000|\n",
      "+----+---+-------+-------------+-------------+\n",
      "\n"
     ]
    }
   ],
   "source": [
    "proyecciones.filter(proyecciones[\"Total Mujeres\"] > 5e7).show(5)"
   ]
  },
  {
   "cell_type": "markdown",
   "metadata": {},
   "source": [
    "El valor de proyeccion de Total Mujeres para el año 2009 y el departamento vichada es correcto?"
   ]
  },
  {
   "cell_type": "code",
   "execution_count": 65,
   "metadata": {},
   "outputs": [
    {
     "name": "stderr",
     "output_type": "stream",
     "text": [
      "C:\\Users\\icgodmem\\anaconda3\\envs\\tutoriales\\lib\\site-packages\\pandas\\io\\formats\\style.py:2813: RuntimeWarning: All-NaN slice encountered\n",
      "  smin = np.nanmin(gmap) if vmin is None else vmin\n",
      "C:\\Users\\icgodmem\\anaconda3\\envs\\tutoriales\\lib\\site-packages\\pandas\\io\\formats\\style.py:2814: RuntimeWarning: All-NaN slice encountered\n",
      "  smax = np.nanmax(gmap) if vmax is None else vmax\n"
     ]
    },
    {
     "data": {
      "text/html": [
       "<style type=\"text/css\">\n",
       "#T_309ca_row0_col0, #T_309ca_row2_col2, #T_309ca_row3_col3 {\n",
       "  background-color: #b40426;\n",
       "  color: #f1f1f1;\n",
       "}\n",
       "#T_309ca_row0_col1, #T_309ca_row1_col0, #T_309ca_row1_col1, #T_309ca_row1_col2, #T_309ca_row1_col3, #T_309ca_row2_col1, #T_309ca_row3_col1 {\n",
       "  background-color: #000000;\n",
       "  color: #f1f1f1;\n",
       "}\n",
       "#T_309ca_row0_col2, #T_309ca_row0_col3, #T_309ca_row3_col0 {\n",
       "  background-color: #3b4cc0;\n",
       "  color: #f1f1f1;\n",
       "}\n",
       "#T_309ca_row2_col0 {\n",
       "  background-color: #4358cb;\n",
       "  color: #f1f1f1;\n",
       "}\n",
       "#T_309ca_row2_col3 {\n",
       "  background-color: #82a6fb;\n",
       "  color: #f1f1f1;\n",
       "}\n",
       "#T_309ca_row3_col2 {\n",
       "  background-color: #7a9df8;\n",
       "  color: #f1f1f1;\n",
       "}\n",
       "</style>\n",
       "<table id=\"T_309ca_\">\n",
       "  <thead>\n",
       "    <tr>\n",
       "      <th class=\"blank level0\" >&nbsp;</th>\n",
       "      <th class=\"col_heading level0 col0\" >Anio</th>\n",
       "      <th class=\"col_heading level0 col1\" >DP</th>\n",
       "      <th class=\"col_heading level0 col2\" >Total Hombres</th>\n",
       "      <th class=\"col_heading level0 col3\" >Total Mujeres</th>\n",
       "    </tr>\n",
       "  </thead>\n",
       "  <tbody>\n",
       "    <tr>\n",
       "      <th id=\"T_309ca_level0_row0\" class=\"row_heading level0 row0\" >Anio</th>\n",
       "      <td id=\"T_309ca_row0_col0\" class=\"data row0 col0\" >1.000000</td>\n",
       "      <td id=\"T_309ca_row0_col1\" class=\"data row0 col1\" >nan</td>\n",
       "      <td id=\"T_309ca_row0_col2\" class=\"data row0 col2\" >0.026346</td>\n",
       "      <td id=\"T_309ca_row0_col3\" class=\"data row0 col3\" >-0.002607</td>\n",
       "    </tr>\n",
       "    <tr>\n",
       "      <th id=\"T_309ca_level0_row1\" class=\"row_heading level0 row1\" >DP</th>\n",
       "      <td id=\"T_309ca_row1_col0\" class=\"data row1 col0\" >nan</td>\n",
       "      <td id=\"T_309ca_row1_col1\" class=\"data row1 col1\" >nan</td>\n",
       "      <td id=\"T_309ca_row1_col2\" class=\"data row1 col2\" >nan</td>\n",
       "      <td id=\"T_309ca_row1_col3\" class=\"data row1 col3\" >nan</td>\n",
       "    </tr>\n",
       "    <tr>\n",
       "      <th id=\"T_309ca_level0_row2\" class=\"row_heading level0 row2\" >Total Hombres</th>\n",
       "      <td id=\"T_309ca_row2_col0\" class=\"data row2 col0\" >0.026346</td>\n",
       "      <td id=\"T_309ca_row2_col1\" class=\"data row2 col1\" >nan</td>\n",
       "      <td id=\"T_309ca_row2_col2\" class=\"data row2 col2\" >1.000000</td>\n",
       "      <td id=\"T_309ca_row2_col3\" class=\"data row2 col3\" >0.218155</td>\n",
       "    </tr>\n",
       "    <tr>\n",
       "      <th id=\"T_309ca_level0_row3\" class=\"row_heading level0 row3\" >Total Mujeres</th>\n",
       "      <td id=\"T_309ca_row3_col0\" class=\"data row3 col0\" >-0.002607</td>\n",
       "      <td id=\"T_309ca_row3_col1\" class=\"data row3 col1\" >nan</td>\n",
       "      <td id=\"T_309ca_row3_col2\" class=\"data row3 col2\" >0.218155</td>\n",
       "      <td id=\"T_309ca_row3_col3\" class=\"data row3 col3\" >1.000000</td>\n",
       "    </tr>\n",
       "  </tbody>\n",
       "</table>\n"
      ],
      "text/plain": [
       "<pandas.io.formats.style.Styler at 0x1ecb436a108>"
      ]
     },
     "execution_count": 65,
     "metadata": {},
     "output_type": "execute_result"
    }
   ],
   "source": [
    "corrp = proyecciones.toPandas().corr(method='pearson')\n",
    "corrp.style.background_gradient(cmap='coolwarm')"
   ]
  },
  {
   "cell_type": "markdown",
   "metadata": {},
   "source": [
    "No se observa correlacion alguna entre las columnas del conjunto de datos."
   ]
  },
  {
   "cell_type": "markdown",
   "metadata": {},
   "source": [
    "Reporte de perfilamiento"
   ]
  },
  {
   "cell_type": "code",
   "execution_count": 70,
   "metadata": {},
   "outputs": [],
   "source": [
    "PATH='./'\n",
    "reporte = ProfileReport(proyecciones.toPandas())"
   ]
  },
  {
   "cell_type": "code",
   "execution_count": 71,
   "metadata": {},
   "outputs": [
    {
     "data": {
      "application/vnd.jupyter.widget-view+json": {
       "model_id": "1f45996c344c411a886074d489dce986",
       "version_major": 2,
       "version_minor": 0
      },
      "text/plain": [
       "Summarize dataset:   0%|          | 0/5 [00:00<?, ?it/s]"
      ]
     },
     "metadata": {},
     "output_type": "display_data"
    },
    {
     "data": {
      "application/vnd.jupyter.widget-view+json": {
       "model_id": "127d9dcd320d43ba84318f98fe382409",
       "version_major": 2,
       "version_minor": 0
      },
      "text/plain": [
       "Generate report structure:   0%|          | 0/1 [00:00<?, ?it/s]"
      ]
     },
     "metadata": {},
     "output_type": "display_data"
    },
    {
     "data": {
      "application/vnd.jupyter.widget-view+json": {
       "model_id": "e7c3b52d118a48708d353bdcc4643712",
       "version_major": 2,
       "version_minor": 0
      },
      "text/plain": [
       "Render HTML:   0%|          | 0/1 [00:00<?, ?it/s]"
      ]
     },
     "metadata": {},
     "output_type": "display_data"
    },
    {
     "data": {
      "application/vnd.jupyter.widget-view+json": {
       "model_id": "ab85b0c271bd41c9883a335ad131909c",
       "version_major": 2,
       "version_minor": 0
      },
      "text/plain": [
       "Export report to file:   0%|          | 0/1 [00:00<?, ?it/s]"
      ]
     },
     "metadata": {},
     "output_type": "display_data"
    }
   ],
   "source": [
    "reporte.to_file(PATH+\"proyecciones_reporte_perfilamiento.html\")"
   ]
  },
  {
   "cell_type": "markdown",
   "metadata": {},
   "source": [
    "#### Resumen general del reporte de perfilamiento\n",
    "\n",
    "- Se tienen 5 variables y 330 registros o proyecciones, de estas variables 3 son numericas y 2 son categoricas. Se observa que  no ha datos vacíos. (conclusion)\n",
    "- El archivo ocupa un tamaño en memoria de 7.9 KiB.\n",
    "- El set de datos contiene un 0.0% de registros duplicados.\n",
    "\n",
    "#### Seccion de variables:\n",
    "\n",
    "- Para cada variable se tienen datos estadisticos como la media, el minimo y máximo, asi como tambien un histograma de distribución de la variable. Para los datos se observa solamente un valor extremo en la columna Total Mujeres que debera ser aclarado con el negocio.\n",
    "- Las variables DPNOM y Anio son uniformes\n",
    "- La variable DP es constante\n",
    "- Las variables DPNOM,Total Hombres y Total Mujeres tienen alta correlación.\n",
    "\n",
    "#### Seccion de interacciones y correlaciones:\n",
    "\n",
    "El gráfico de correlación de Spearman's parece indicar correlaciones cercanas a 1 entre algunas variables, esto significa que ambas columnas representan la misma información, esto es verdad ya que el incremento de una población a lo largo del tiempo se puede tratar de forma conjunta para hombre y mujeres o se puede tratar de forma individual, sin embargo su comportamiento con tendencia al alza o a la baja es en la mayoria de departamentos el mismo."
   ]
  },
  {
   "cell_type": "markdown",
   "metadata": {},
   "source": [
    "#### Tabla pibCopia"
   ]
  },
  {
   "cell_type": "markdown",
   "metadata": {},
   "source": [
    "Para la generación de las estadísticas descriptivas por columna de la tabla de movimientos, se ejecuta el comando de summary"
   ]
  },
  {
   "cell_type": "code",
   "execution_count": 35,
   "metadata": {},
   "outputs": [
    {
     "name": "stdout",
     "output_type": "stream",
     "text": [
      "+-------+----------------------------+-------------+------------------+-----------------+-------------------+--------------------+-----------------+--------------------+--------------------+--------------------+\n",
      "|summary|CodigoDepartamento(DIVIPOLA)|DEPARTAMENTOS|              2006|             2007|               2008|                2010|             2011|                2012|                2013|                2014|\n",
      "+-------+----------------------------+-------------+------------------+-----------------+-------------------+--------------------+-----------------+--------------------+--------------------+--------------------+\n",
      "|  count|                          27|           27|                27|               27|                 27|                  27|               27|                  27|                  27|                  27|\n",
      "|   mean|            48.7037037037037|         null| 6413240.740740741|7130828.037037037|  7851694.186446355|   8737185.290427044|9728735.962962963|1.0380039925925925E7|1.1111859341725312E7|1.1774719888888888E7|\n",
      "| stddev|          35.843478985095544|         null|2611248.9626708487|2977845.769359228|  3262076.800897536|  3708953.8408978363|4313294.524653619|   4492796.711956715|   4785220.102769231|   5118298.026004297|\n",
      "|    min|                           0|    ANTIOQUIA|           3575615|          4060678|   4337203.79854487|   4285403.948100506|          4377994|             4639459|   4856888.325019439|             4733848|\n",
      "|    25%|                          15|         null|           4362011|          4553399|  4854812.196886142|     5337184.1303263|          5516404|             6439647|   6914460.222596752|             7555705|\n",
      "|    50%|                          41|         null|           5133194|          5776380|  7107721.504297101|   9481200.322350295|         10288314|            11400169|1.1967750469189592E7|            12460838|\n",
      "|    75%|                          86|         null|           8046451|          9523137|        1.1048217E7|         1.2340797E7|         13461456|            14347570|1.5262933073640093E7|            16490649|\n",
      "|    max|                          99|         uila|          14770879|         16332253|1.754190668595805E7|1.9690380697771702E7|         21347503|            22865844| 2.453659082487613E7|            26337646|\n",
      "+-------+----------------------------+-------------+------------------+-----------------+-------------------+--------------------+-----------------+--------------------+--------------------+--------------------+\n",
      "\n"
     ]
    }
   ],
   "source": [
    "pib.summary().show()"
   ]
  },
  {
   "cell_type": "markdown",
   "metadata": {},
   "source": [
    "En las estadísticas anteriores vemos que el conteo de todas las columnas da un total de 27, es decir son columnas con algun tipo de contenido por lo cual No se puede eliminar de momento ninguna columna del set de datos, tambien se observa que se realiza el calculo de la media para la columna categoria  departamentos, sin embargo como los datos son diferentes no tiene sentido calcular la media o desviación estandar, o los percentiles, por lo cual el valor aparece en null.\n",
    "Tambien se observa que se realizan los calculos de media, desviación estandar, minimo, maximo y cuartiles para la columna codigoDepartamento(DIVIPOLA) sin embargo esta al ser una llave foranea carece de sentido analizar estos calculos.\n",
    "\n",
    "Revisando la regla # 1, se tiene que la informacion del PIB es desde los años 2005 hasta 2018 para los 32 departamentos, sin embargo, se ven columnas de datos para los años 2006,2007,2008,2010,2011,2012,2013 y 2014. Pero hace falta informacion de los años 2005,2009,2015,2016,2017 y 2018, adicionalmente según el conteo de registros, se tienen 27 departamentos pero la regla indica 32.\n",
    "Esta disponible la información de PIB para los años 2005,2009,2015,2016,2017,2018 y para los 32 departamentos?\n",
    "\n",
    "Columnas años: Se observa que se realiza el calculo de los estadisticos de media, desviación estandar la cual varia entre 2611248 y 5118298 lo cual se ve razonable y el calculo de valores minimo y máximo que se ven normales para la distribución de datos presentada."
   ]
  },
  {
   "cell_type": "code",
   "execution_count": 39,
   "metadata": {},
   "outputs": [
    {
     "data": {
      "text/plain": [
       "{'whiskers': [<matplotlib.lines.Line2D at 0x1ecb5545c08>,\n",
       "  <matplotlib.lines.Line2D at 0x1ecb5549308>],\n",
       " 'caps': [<matplotlib.lines.Line2D at 0x1ecb5549408>,\n",
       "  <matplotlib.lines.Line2D at 0x1ecb5549c08>],\n",
       " 'boxes': [<matplotlib.lines.Line2D at 0x1ecb5545388>],\n",
       " 'medians': [<matplotlib.lines.Line2D at 0x1ecb554d648>],\n",
       " 'fliers': [<matplotlib.lines.Line2D at 0x1ecb554dc88>],\n",
       " 'means': []}"
      ]
     },
     "execution_count": 39,
     "metadata": {},
     "output_type": "execute_result"
    },
    {
     "data": {
      "image/png": "[encoded data removed]",
      "text/plain": [
       "<Figure size 432x288 with 1 Axes>"
      ]
     },
     "metadata": {
      "needs_background": "light"
     },
     "output_type": "display_data"
    }
   ],
   "source": [
    "%matplotlib inline\n",
    "import matplotlib.pyplot as plt\n",
    "\n",
    "fig1, ax1 = plt.subplots()\n",
    "ax1.set_title('Pib 2006 Consolidado')\n",
    "ax1.boxplot(np.array(pib.select('2006').collect()))"
   ]
  },
  {
   "cell_type": "markdown",
   "metadata": {},
   "source": [
    "En el diagrama de cajas anterior podemos observar que la variable 2006 no tiene valores extremos."
   ]
  },
  {
   "cell_type": "code",
   "execution_count": null,
   "metadata": {
    "tags": []
   },
   "outputs": [
    {
     "data": {
      "text/plain": [
       "{'whiskers': [<matplotlib.lines.Line2D at 0x1ecb55c4d88>,\n",
       "  <matplotlib.lines.Line2D at 0x1ecb55c7488>],\n",
       " 'caps': [<matplotlib.lines.Line2D at 0x1ecb55c7588>,\n",
       "  <matplotlib.lines.Line2D at 0x1ecb55c7d48>],\n",
       " 'boxes': [<matplotlib.lines.Line2D at 0x1ecb55c4488>],\n",
       " 'medians': [<matplotlib.lines.Line2D at 0x1ecb55cc788>],\n",
       " 'fliers': [<matplotlib.lines.Line2D at 0x1ecb55ccdc8>],\n",
       " 'means': []}"
      ]
     },
     "execution_count": 40,
     "metadata": {},
     "output_type": "execute_result"
    },
    {
     "data": {
      "image/png": "[encoded data removed]",
      "text/plain": [
       "<Figure size 432x288 with 1 Axes>"
      ]
     },
     "metadata": {
      "needs_background": "light"
     },
     "output_type": "display_data"
    }
   ],
   "source": [
    "%matplotlib inline\n",
    "import matplotlib.pyplot as plt\n",
    "\n",
    "fig1, ax1 = plt.subplots()\n",
    "ax1.set_title('Pib 2007 Consolidado')\n",
    "ax1.boxplot(np.array(pib.select('2007').collect()))"
   ]
  },
  {
   "cell_type": "markdown",
   "metadata": {},
   "source": [
    "En el diagrama de cajas anterior podemos observar que la variable 2007 no tiene valores extremos."
   ]
  },
  {
   "cell_type": "code",
   "execution_count": null,
   "metadata": {},
   "outputs": [
    {
     "data": {
      "text/plain": [
       "{'whiskers': [<matplotlib.lines.Line2D at 0x1ecb5644788>,\n",
       "  <matplotlib.lines.Line2D at 0x1ecb5644e48>],\n",
       " 'caps': [<matplotlib.lines.Line2D at 0x1ecb5644708>,\n",
       "  <matplotlib.lines.Line2D at 0x1ecb564a148>],\n",
       " 'boxes': [<matplotlib.lines.Line2D at 0x1ecb563fa88>],\n",
       " 'medians': [<matplotlib.lines.Line2D at 0x1ecb5650148>],\n",
       " 'fliers': [<matplotlib.lines.Line2D at 0x1ecb564abc8>],\n",
       " 'means': []}"
      ]
     },
     "execution_count": 41,
     "metadata": {},
     "output_type": "execute_result"
    },
    {
     "data": {
      "image/png": "[encoded data removed]",
      "text/plain": [
       "<Figure size 432x288 with 1 Axes>"
      ]
     },
     "metadata": {
      "needs_background": "light"
     },
     "output_type": "display_data"
    }
   ],
   "source": [
    "%matplotlib inline\n",
    "import matplotlib.pyplot as plt\n",
    "\n",
    "fig1, ax1 = plt.subplots()\n",
    "ax1.set_title('Pib 2008 Consolidado')\n",
    "ax1.boxplot(np.array(pib.select('2008').collect()))"
   ]
  },
  {
   "cell_type": "markdown",
   "metadata": {},
   "source": [
    "En el diagrama de cajas anterior podemos observar que la variable 2008 no tiene valores extremos."
   ]
  },
  {
   "cell_type": "code",
   "execution_count": 42,
   "metadata": {},
   "outputs": [
    {
     "data": {
      "text/plain": [
       "{'whiskers': [<matplotlib.lines.Line2D at 0x1ecb668f888>,\n",
       "  <matplotlib.lines.Line2D at 0x1ecb6693d48>],\n",
       " 'caps': [<matplotlib.lines.Line2D at 0x1ecb6693f88>,\n",
       "  <matplotlib.lines.Line2D at 0x1ecb669a048>],\n",
       " 'boxes': [<matplotlib.lines.Line2D at 0x1ecb6693288>],\n",
       " 'medians': [<matplotlib.lines.Line2D at 0x1ecb669f048>],\n",
       " 'fliers': [<matplotlib.lines.Line2D at 0x1ecb669aac8>],\n",
       " 'means': []}"
      ]
     },
     "execution_count": 42,
     "metadata": {},
     "output_type": "execute_result"
    },
    {
     "data": {
      "image/png": "[encoded data removed]",
      "text/plain": [
       "<Figure size 432x288 with 1 Axes>"
      ]
     },
     "metadata": {
      "needs_background": "light"
     },
     "output_type": "display_data"
    }
   ],
   "source": [
    "%matplotlib inline\n",
    "import matplotlib.pyplot as plt\n",
    "\n",
    "fig1, ax1 = plt.subplots()\n",
    "ax1.set_title('Pib 2010 Consolidado')\n",
    "ax1.boxplot(np.array(pib.select('2010').collect()))"
   ]
  },
  {
   "cell_type": "markdown",
   "metadata": {},
   "source": [
    "En el diagrama de cajas anterior podemos observar que la variable 2010 no tiene valores extremos."
   ]
  },
  {
   "cell_type": "code",
   "execution_count": 43,
   "metadata": {},
   "outputs": [
    {
     "data": {
      "text/plain": [
       "{'whiskers': [<matplotlib.lines.Line2D at 0x1ecb6716448>,\n",
       "  <matplotlib.lines.Line2D at 0x1ecb67198c8>],\n",
       " 'caps': [<matplotlib.lines.Line2D at 0x1ecb6719fc8>,\n",
       "  <matplotlib.lines.Line2D at 0x1ecb6719948>],\n",
       " 'boxes': [<matplotlib.lines.Line2D at 0x1ecb6716d88>],\n",
       " 'medians': [<matplotlib.lines.Line2D at 0x1ecb671ebc8>],\n",
       " 'fliers': [<matplotlib.lines.Line2D at 0x1ecb671ee08>],\n",
       " 'means': []}"
      ]
     },
     "execution_count": 43,
     "metadata": {},
     "output_type": "execute_result"
    },
    {
     "data": {
      "image/png": "[encoded data removed]",
      "text/plain": [
       "<Figure size 432x288 with 1 Axes>"
      ]
     },
     "metadata": {
      "needs_background": "light"
     },
     "output_type": "display_data"
    }
   ],
   "source": [
    "%matplotlib inline\n",
    "import matplotlib.pyplot as plt\n",
    "\n",
    "fig1, ax1 = plt.subplots()\n",
    "ax1.set_title('Pib 2011 Consolidado')\n",
    "ax1.boxplot(np.array(pib.select('2011').collect()))"
   ]
  },
  {
   "cell_type": "markdown",
   "metadata": {},
   "source": [
    "En el diagrama de cajas anterior podemos observar que la variable 2011 no tiene valores extremos."
   ]
  },
  {
   "cell_type": "code",
   "execution_count": 44,
   "metadata": {},
   "outputs": [
    {
     "data": {
      "text/plain": [
       "{'whiskers': [<matplotlib.lines.Line2D at 0x1ecb6791448>,\n",
       "  <matplotlib.lines.Line2D at 0x1ecb6793ac8>],\n",
       " 'caps': [<matplotlib.lines.Line2D at 0x1ecb6793d08>,\n",
       "  <matplotlib.lines.Line2D at 0x1ecb6793b48>],\n",
       " 'boxes': [<matplotlib.lines.Line2D at 0x1ecb6791fc8>],\n",
       " 'medians': [<matplotlib.lines.Line2D at 0x1ecb679b9c8>],\n",
       " 'fliers': [<matplotlib.lines.Line2D at 0x1ecb679b888>],\n",
       " 'means': []}"
      ]
     },
     "execution_count": 44,
     "metadata": {},
     "output_type": "execute_result"
    },
    {
     "data": {
      "image/png": "[encoded data removed]",
      "text/plain": [
       "<Figure size 432x288 with 1 Axes>"
      ]
     },
     "metadata": {
      "needs_background": "light"
     },
     "output_type": "display_data"
    }
   ],
   "source": [
    "%matplotlib inline\n",
    "import matplotlib.pyplot as plt\n",
    "\n",
    "fig1, ax1 = plt.subplots()\n",
    "ax1.set_title('Pib 2012 Consolidado')\n",
    "ax1.boxplot(np.array(pib.select('2012').collect()))"
   ]
  },
  {
   "cell_type": "markdown",
   "metadata": {},
   "source": [
    "En el diagrama de cajas anterior podemos observar que la variable 2012 no tiene valores extremos."
   ]
  },
  {
   "cell_type": "code",
   "execution_count": 45,
   "metadata": {},
   "outputs": [
    {
     "data": {
      "text/plain": [
       "{'whiskers': [<matplotlib.lines.Line2D at 0x1ecb67f4488>,\n",
       "  <matplotlib.lines.Line2D at 0x1ecb6816ac8>],\n",
       " 'caps': [<matplotlib.lines.Line2D at 0x1ecb6816d08>,\n",
       "  <matplotlib.lines.Line2D at 0x1ecb6816b48>],\n",
       " 'boxes': [<matplotlib.lines.Line2D at 0x1ecb6810fc8>],\n",
       " 'medians': [<matplotlib.lines.Line2D at 0x1ecb6819988>],\n",
       " 'fliers': [<matplotlib.lines.Line2D at 0x1ecb6819f88>],\n",
       " 'means': []}"
      ]
     },
     "execution_count": 45,
     "metadata": {},
     "output_type": "execute_result"
    },
    {
     "data": {
      "image/png": "[encoded data removed]",
      "text/plain": [
       "<Figure size 432x288 with 1 Axes>"
      ]
     },
     "metadata": {
      "needs_background": "light"
     },
     "output_type": "display_data"
    }
   ],
   "source": [
    "%matplotlib inline\n",
    "import matplotlib.pyplot as plt\n",
    "\n",
    "fig1, ax1 = plt.subplots()\n",
    "ax1.set_title('Pib 2013 Consolidado')\n",
    "ax1.boxplot(np.array(pib.select('2013').collect()))"
   ]
  },
  {
   "cell_type": "markdown",
   "metadata": {},
   "source": [
    "En el diagrama de cajas anterior podemos observar que la variable 2013 no tiene valores extremos."
   ]
  },
  {
   "cell_type": "code",
   "execution_count": 46,
   "metadata": {},
   "outputs": [
    {
     "data": {
      "text/plain": [
       "{'whiskers': [<matplotlib.lines.Line2D at 0x1ecb68930c8>,\n",
       "  <matplotlib.lines.Line2D at 0x1ecb68985c8>],\n",
       " 'caps': [<matplotlib.lines.Line2D at 0x1ecb68986c8>,\n",
       "  <matplotlib.lines.Line2D at 0x1ecb6898e88>],\n",
       " 'boxes': [<matplotlib.lines.Line2D at 0x1ecb6893a88>],\n",
       " 'medians': [<matplotlib.lines.Line2D at 0x1ecb689e8c8>],\n",
       " 'fliers': [<matplotlib.lines.Line2D at 0x1ecb689ef08>],\n",
       " 'means': []}"
      ]
     },
     "execution_count": 46,
     "metadata": {},
     "output_type": "execute_result"
    },
    {
     "data": {
      "image/png": "[encoded data removed]",
      "text/plain": [
       "<Figure size 432x288 with 1 Axes>"
      ]
     },
     "metadata": {
      "needs_background": "light"
     },
     "output_type": "display_data"
    }
   ],
   "source": [
    "%matplotlib inline\n",
    "import matplotlib.pyplot as plt\n",
    "\n",
    "fig1, ax1 = plt.subplots()\n",
    "ax1.set_title('Pib 2014 Consolidado')\n",
    "ax1.boxplot(np.array(pib.select('2014').collect()))"
   ]
  },
  {
   "cell_type": "markdown",
   "metadata": {},
   "source": [
    "En el diagrama de cajas anterior podemos observar que la variable 2014 no tiene valores extremos."
   ]
  },
  {
   "cell_type": "code",
   "execution_count": null,
   "metadata": {},
   "outputs": [],
   "source": [
    "Ahora vamos a revisar los diferentes CodigoDepartamento(DIVIPOLA)"
   ]
  },
  {
   "cell_type": "code",
   "execution_count": 50,
   "metadata": {},
   "outputs": [
    {
     "name": "stdout",
     "output_type": "stream",
     "text": [
      "+----------------------------+-----+\n",
      "|CodigoDepartamento(DIVIPOLA)|count|\n",
      "+----------------------------+-----+\n",
      "|                          95|    2|\n",
      "|                          94|    2|\n",
      "|                          99|    2|\n",
      "|                          86|    2|\n",
      "|                          76|    2|\n",
      "|                          18|    2|\n",
      "|                          41|    2|\n",
      "|                          15|    2|\n",
      "|                          23|    2|\n",
      "|                           8|    2|\n",
      "|                          54|    1|\n",
      "|                          11|    1|\n",
      "|                           0|    1|\n",
      "|                          20|    1|\n",
      "|                          63|    1|\n",
      "|                          52|    1|\n",
      "|                           5|    1|\n",
      "+----------------------------+-----+\n",
      "\n"
     ]
    }
   ],
   "source": [
    "pib.groupby(\"CodigoDepartamento(DIVIPOLA)\").count().orderBy(\"count\", ascending=False).show()"
   ]
  },
  {
   "cell_type": "markdown",
   "metadata": {},
   "source": [
    "Se observa que cada departamento deberia tener un solo registro de pib pero se observan varios registros que tienen mas de un dato, con lo cual se confirma que la regla # 1 no es valida"
   ]
  },
  {
   "cell_type": "code",
   "execution_count": 52,
   "metadata": {},
   "outputs": [
    {
     "name": "stdout",
     "output_type": "stream",
     "text": [
      "+--------------------+-----+\n",
      "|       DEPARTAMENTOS|count|\n",
      "+--------------------+-----+\n",
      "|          AtlÃ¡ntico|    2|\n",
      "|            CaquetÃ¡|    2|\n",
      "|boyacaaaaaaaaaaaa...|    2|\n",
      "|            PUTUMAYO|    2|\n",
      "|             cordoba|    2|\n",
      "|                uila|    2|\n",
      "|             VICHADA|    2|\n",
      "|              GUANIA|    2|\n",
      "|            el valle|    2|\n",
      "|            guaviare|    2|\n",
      "|           ANTIOQUIA|    1|\n",
      "|            El Cesar|    1|\n",
      "|            norte de|    1|\n",
      "|Bogota distrito c...|    1|\n",
      "|            QuindiÃ³|    1|\n",
      "|Republica de Colo...|    1|\n",
      "|             NARIÃ‘O|    1|\n",
      "+--------------------+-----+\n",
      "\n"
     ]
    }
   ],
   "source": [
    "pib.groupby(\"DEPARTAMENTOS\").count().orderBy(\"count\", ascending=False).show()"
   ]
  },
  {
   "cell_type": "markdown",
   "metadata": {},
   "source": [
    "Se observa que cada departamento deberia tener un solo registro de pib pero se observan varios registros que tienen mas de un dato, con lo cual se confirma que la regla # 1 no es valida"
   ]
  },
  {
   "cell_type": "markdown",
   "metadata": {},
   "source": [
    "Ahora revisamos los datos distintos para los valores de PIB"
   ]
  },
  {
   "cell_type": "code",
   "execution_count": 54,
   "metadata": {},
   "outputs": [
    {
     "data": {
      "text/plain": [
       "17"
      ]
     },
     "execution_count": 54,
     "metadata": {},
     "output_type": "execute_result"
    }
   ],
   "source": [
    "pib.select(col('2006')).distinct().count()"
   ]
  },
  {
   "cell_type": "code",
   "execution_count": 55,
   "metadata": {},
   "outputs": [
    {
     "data": {
      "text/plain": [
       "17"
      ]
     },
     "execution_count": 55,
     "metadata": {},
     "output_type": "execute_result"
    }
   ],
   "source": [
    "pib.select(col('2007')).distinct().count()"
   ]
  },
  {
   "cell_type": "code",
   "execution_count": 56,
   "metadata": {},
   "outputs": [
    {
     "data": {
      "text/plain": [
       "17"
      ]
     },
     "execution_count": 56,
     "metadata": {},
     "output_type": "execute_result"
    }
   ],
   "source": [
    "pib.select(col('2008')).distinct().count()"
   ]
  },
  {
   "cell_type": "code",
   "execution_count": 57,
   "metadata": {},
   "outputs": [
    {
     "data": {
      "text/plain": [
       "17"
      ]
     },
     "execution_count": 57,
     "metadata": {},
     "output_type": "execute_result"
    }
   ],
   "source": [
    "pib.select(col('2010')).distinct().count()"
   ]
  },
  {
   "cell_type": "code",
   "execution_count": 58,
   "metadata": {},
   "outputs": [
    {
     "data": {
      "text/plain": [
       "17"
      ]
     },
     "execution_count": 58,
     "metadata": {},
     "output_type": "execute_result"
    }
   ],
   "source": [
    "pib.select(col('2011')).distinct().count()"
   ]
  },
  {
   "cell_type": "code",
   "execution_count": 59,
   "metadata": {},
   "outputs": [
    {
     "data": {
      "text/plain": [
       "17"
      ]
     },
     "execution_count": 59,
     "metadata": {},
     "output_type": "execute_result"
    }
   ],
   "source": [
    "pib.select(col('2012')).distinct().count()"
   ]
  },
  {
   "cell_type": "code",
   "execution_count": 60,
   "metadata": {},
   "outputs": [
    {
     "data": {
      "text/plain": [
       "17"
      ]
     },
     "execution_count": 60,
     "metadata": {},
     "output_type": "execute_result"
    }
   ],
   "source": [
    "pib.select(col('2013')).distinct().count()"
   ]
  },
  {
   "cell_type": "code",
   "execution_count": 61,
   "metadata": {},
   "outputs": [
    {
     "data": {
      "text/plain": [
       "17"
      ]
     },
     "execution_count": 61,
     "metadata": {},
     "output_type": "execute_result"
    }
   ],
   "source": [
    "pib.select(col('2014')).distinct().count()"
   ]
  },
  {
   "cell_type": "markdown",
   "metadata": {},
   "source": [
    "Se confirma nuevamente el fallo de la regla de PIB ya que faltan departamentos para completar los 32 y ademas hay algunos registros duplicados"
   ]
  },
  {
   "cell_type": "code",
   "execution_count": 67,
   "metadata": {},
   "outputs": [
    {
     "data": {
      "text/html": [
       "<style type=\"text/css\">\n",
       "#T_c3b8f_row0_col0, #T_c3b8f_row1_col1, #T_c3b8f_row2_col2, #T_c3b8f_row3_col3, #T_c3b8f_row4_col4, #T_c3b8f_row4_col6, #T_c3b8f_row5_col5, #T_c3b8f_row5_col6, #T_c3b8f_row6_col4, #T_c3b8f_row6_col5, #T_c3b8f_row6_col6, #T_c3b8f_row7_col7, #T_c3b8f_row7_col8, #T_c3b8f_row8_col7, #T_c3b8f_row8_col8 {\n",
       "  background-color: #b40426;\n",
       "  color: #f1f1f1;\n",
       "}\n",
       "#T_c3b8f_row0_col1, #T_c3b8f_row0_col2, #T_c3b8f_row0_col3, #T_c3b8f_row0_col4, #T_c3b8f_row0_col5, #T_c3b8f_row0_col6, #T_c3b8f_row0_col7, #T_c3b8f_row0_col8, #T_c3b8f_row8_col0 {\n",
       "  background-color: #3b4cc0;\n",
       "  color: #f1f1f1;\n",
       "}\n",
       "#T_c3b8f_row1_col0 {\n",
       "  background-color: #465ecf;\n",
       "  color: #f1f1f1;\n",
       "}\n",
       "#T_c3b8f_row1_col2, #T_c3b8f_row2_col1, #T_c3b8f_row2_col3, #T_c3b8f_row3_col2, #T_c3b8f_row3_col4, #T_c3b8f_row4_col3, #T_c3b8f_row4_col5, #T_c3b8f_row4_col8, #T_c3b8f_row5_col4, #T_c3b8f_row5_col7, #T_c3b8f_row6_col7, #T_c3b8f_row6_col8, #T_c3b8f_row7_col5, #T_c3b8f_row7_col6, #T_c3b8f_row8_col4, #T_c3b8f_row8_col6 {\n",
       "  background-color: #b50927;\n",
       "  color: #f1f1f1;\n",
       "}\n",
       "#T_c3b8f_row1_col3, #T_c3b8f_row4_col7, #T_c3b8f_row5_col8, #T_c3b8f_row7_col4, #T_c3b8f_row8_col5 {\n",
       "  background-color: #b70d28;\n",
       "  color: #f1f1f1;\n",
       "}\n",
       "#T_c3b8f_row1_col4, #T_c3b8f_row4_col1 {\n",
       "  background-color: #c0282f;\n",
       "  color: #f1f1f1;\n",
       "}\n",
       "#T_c3b8f_row1_col5, #T_c3b8f_row8_col1 {\n",
       "  background-color: #c83836;\n",
       "  color: #f1f1f1;\n",
       "}\n",
       "#T_c3b8f_row1_col6, #T_c3b8f_row2_col5, #T_c3b8f_row5_col2, #T_c3b8f_row6_col1, #T_c3b8f_row7_col2 {\n",
       "  background-color: #c53334;\n",
       "  color: #f1f1f1;\n",
       "}\n",
       "#T_c3b8f_row1_col7, #T_c3b8f_row7_col1 {\n",
       "  background-color: #cb3e38;\n",
       "  color: #f1f1f1;\n",
       "}\n",
       "#T_c3b8f_row1_col8, #T_c3b8f_row2_col7 {\n",
       "  background-color: #c73635;\n",
       "  color: #f1f1f1;\n",
       "}\n",
       "#T_c3b8f_row2_col0, #T_c3b8f_row3_col0 {\n",
       "  background-color: #3e51c5;\n",
       "  color: #f1f1f1;\n",
       "}\n",
       "#T_c3b8f_row2_col4 {\n",
       "  background-color: #bd1f2d;\n",
       "  color: #f1f1f1;\n",
       "}\n",
       "#T_c3b8f_row2_col6, #T_c3b8f_row2_col8, #T_c3b8f_row6_col2, #T_c3b8f_row8_col2 {\n",
       "  background-color: #c12b30;\n",
       "  color: #f1f1f1;\n",
       "}\n",
       "#T_c3b8f_row3_col1, #T_c3b8f_row3_col6, #T_c3b8f_row6_col3 {\n",
       "  background-color: #b8122a;\n",
       "  color: #f1f1f1;\n",
       "}\n",
       "#T_c3b8f_row3_col5, #T_c3b8f_row3_col8, #T_c3b8f_row4_col2, #T_c3b8f_row5_col3, #T_c3b8f_row8_col3 {\n",
       "  background-color: #bb1b2c;\n",
       "  color: #f1f1f1;\n",
       "}\n",
       "#T_c3b8f_row3_col7, #T_c3b8f_row7_col3 {\n",
       "  background-color: #be242e;\n",
       "  color: #f1f1f1;\n",
       "}\n",
       "#T_c3b8f_row4_col0 {\n",
       "  background-color: #455cce;\n",
       "  color: #f1f1f1;\n",
       "}\n",
       "#T_c3b8f_row5_col0 {\n",
       "  background-color: #4358cb;\n",
       "  color: #f1f1f1;\n",
       "}\n",
       "#T_c3b8f_row5_col1 {\n",
       "  background-color: #ca3b37;\n",
       "  color: #f1f1f1;\n",
       "}\n",
       "#T_c3b8f_row6_col0 {\n",
       "  background-color: #3d50c3;\n",
       "  color: #f1f1f1;\n",
       "}\n",
       "#T_c3b8f_row7_col0 {\n",
       "  background-color: #4257c9;\n",
       "  color: #f1f1f1;\n",
       "}\n",
       "</style>\n",
       "<table id=\"T_c3b8f_\">\n",
       "  <thead>\n",
       "    <tr>\n",
       "      <th class=\"blank level0\" >&nbsp;</th>\n",
       "      <th class=\"col_heading level0 col0\" >CodigoDepartamento(DIVIPOLA)</th>\n",
       "      <th class=\"col_heading level0 col1\" >2006</th>\n",
       "      <th class=\"col_heading level0 col2\" >2007</th>\n",
       "      <th class=\"col_heading level0 col3\" >2008</th>\n",
       "      <th class=\"col_heading level0 col4\" >2010</th>\n",
       "      <th class=\"col_heading level0 col5\" >2011</th>\n",
       "      <th class=\"col_heading level0 col6\" >2012</th>\n",
       "      <th class=\"col_heading level0 col7\" >2013</th>\n",
       "      <th class=\"col_heading level0 col8\" >2014</th>\n",
       "    </tr>\n",
       "  </thead>\n",
       "  <tbody>\n",
       "    <tr>\n",
       "      <th id=\"T_c3b8f_level0_row0\" class=\"row_heading level0 row0\" >CodigoDepartamento(DIVIPOLA)</th>\n",
       "      <td id=\"T_c3b8f_row0_col0\" class=\"data row0 col0\" >1.000000</td>\n",
       "      <td id=\"T_c3b8f_row0_col1\" class=\"data row0 col1\" >-0.425295</td>\n",
       "      <td id=\"T_c3b8f_row0_col2\" class=\"data row0 col2\" >-0.467128</td>\n",
       "      <td id=\"T_c3b8f_row0_col3\" class=\"data row0 col3\" >-0.465807</td>\n",
       "      <td id=\"T_c3b8f_row0_col4\" class=\"data row0 col4\" >-0.428861</td>\n",
       "      <td id=\"T_c3b8f_row0_col5\" class=\"data row0 col5\" >-0.441411</td>\n",
       "      <td id=\"T_c3b8f_row0_col6\" class=\"data row0 col6\" >-0.473087</td>\n",
       "      <td id=\"T_c3b8f_row0_col7\" class=\"data row0 col7\" >-0.445658</td>\n",
       "      <td id=\"T_c3b8f_row0_col8\" class=\"data row0 col8\" >-0.485629</td>\n",
       "    </tr>\n",
       "    <tr>\n",
       "      <th id=\"T_c3b8f_level0_row1\" class=\"row_heading level0 row1\" >2006</th>\n",
       "      <td id=\"T_c3b8f_row1_col0\" class=\"data row1 col0\" >-0.425295</td>\n",
       "      <td id=\"T_c3b8f_row1_col1\" class=\"data row1 col1\" >1.000000</td>\n",
       "      <td id=\"T_c3b8f_row1_col2\" class=\"data row1 col2\" >0.994164</td>\n",
       "      <td id=\"T_c3b8f_row1_col3\" class=\"data row1 col3\" >0.982879</td>\n",
       "      <td id=\"T_c3b8f_row1_col4\" class=\"data row1 col4\" >0.955232</td>\n",
       "      <td id=\"T_c3b8f_row1_col5\" class=\"data row1 col5\" >0.916324</td>\n",
       "      <td id=\"T_c3b8f_row1_col6\" class=\"data row1 col6\" >0.930583</td>\n",
       "      <td id=\"T_c3b8f_row1_col7\" class=\"data row1 col7\" >0.905970</td>\n",
       "      <td id=\"T_c3b8f_row1_col8\" class=\"data row1 col8\" >0.920686</td>\n",
       "    </tr>\n",
       "    <tr>\n",
       "      <th id=\"T_c3b8f_level0_row2\" class=\"row_heading level0 row2\" >2007</th>\n",
       "      <td id=\"T_c3b8f_row2_col0\" class=\"data row2 col0\" >-0.467128</td>\n",
       "      <td id=\"T_c3b8f_row2_col1\" class=\"data row2 col1\" >0.994164</td>\n",
       "      <td id=\"T_c3b8f_row2_col2\" class=\"data row2 col2\" >1.000000</td>\n",
       "      <td id=\"T_c3b8f_row2_col3\" class=\"data row2 col3\" >0.989876</td>\n",
       "      <td id=\"T_c3b8f_row2_col4\" class=\"data row2 col4\" >0.966372</td>\n",
       "      <td id=\"T_c3b8f_row2_col5\" class=\"data row2 col5\" >0.931221</td>\n",
       "      <td id=\"T_c3b8f_row2_col6\" class=\"data row2 col6\" >0.946666</td>\n",
       "      <td id=\"T_c3b8f_row2_col7\" class=\"data row2 col7\" >0.926138</td>\n",
       "      <td id=\"T_c3b8f_row2_col8\" class=\"data row2 col8\" >0.943218</td>\n",
       "    </tr>\n",
       "    <tr>\n",
       "      <th id=\"T_c3b8f_level0_row3\" class=\"row_heading level0 row3\" >2008</th>\n",
       "      <td id=\"T_c3b8f_row3_col0\" class=\"data row3 col0\" >-0.465807</td>\n",
       "      <td id=\"T_c3b8f_row3_col1\" class=\"data row3 col1\" >0.982879</td>\n",
       "      <td id=\"T_c3b8f_row3_col2\" class=\"data row3 col2\" >0.989876</td>\n",
       "      <td id=\"T_c3b8f_row3_col3\" class=\"data row3 col3\" >1.000000</td>\n",
       "      <td id=\"T_c3b8f_row3_col4\" class=\"data row3 col4\" >0.988965</td>\n",
       "      <td id=\"T_c3b8f_row3_col5\" class=\"data row3 col5\" >0.969576</td>\n",
       "      <td id=\"T_c3b8f_row3_col6\" class=\"data row3 col6\" >0.978419</td>\n",
       "      <td id=\"T_c3b8f_row3_col7\" class=\"data row3 col7\" >0.959372</td>\n",
       "      <td id=\"T_c3b8f_row3_col8\" class=\"data row3 col8\" >0.968689</td>\n",
       "    </tr>\n",
       "    <tr>\n",
       "      <th id=\"T_c3b8f_level0_row4\" class=\"row_heading level0 row4\" >2010</th>\n",
       "      <td id=\"T_c3b8f_row4_col0\" class=\"data row4 col0\" >-0.428861</td>\n",
       "      <td id=\"T_c3b8f_row4_col1\" class=\"data row4 col1\" >0.955232</td>\n",
       "      <td id=\"T_c3b8f_row4_col2\" class=\"data row4 col2\" >0.966372</td>\n",
       "      <td id=\"T_c3b8f_row4_col3\" class=\"data row4 col3\" >0.988965</td>\n",
       "      <td id=\"T_c3b8f_row4_col4\" class=\"data row4 col4\" >1.000000</td>\n",
       "      <td id=\"T_c3b8f_row4_col5\" class=\"data row4 col5\" >0.991846</td>\n",
       "      <td id=\"T_c3b8f_row4_col6\" class=\"data row4 col6\" >0.995095</td>\n",
       "      <td id=\"T_c3b8f_row4_col7\" class=\"data row4 col7\" >0.988389</td>\n",
       "      <td id=\"T_c3b8f_row4_col8\" class=\"data row4 col8\" >0.989140</td>\n",
       "    </tr>\n",
       "    <tr>\n",
       "      <th id=\"T_c3b8f_level0_row5\" class=\"row_heading level0 row5\" >2011</th>\n",
       "      <td id=\"T_c3b8f_row5_col0\" class=\"data row5 col0\" >-0.441411</td>\n",
       "      <td id=\"T_c3b8f_row5_col1\" class=\"data row5 col1\" >0.916324</td>\n",
       "      <td id=\"T_c3b8f_row5_col2\" class=\"data row5 col2\" >0.931221</td>\n",
       "      <td id=\"T_c3b8f_row5_col3\" class=\"data row5 col3\" >0.969576</td>\n",
       "      <td id=\"T_c3b8f_row5_col4\" class=\"data row5 col4\" >0.991846</td>\n",
       "      <td id=\"T_c3b8f_row5_col5\" class=\"data row5 col5\" >1.000000</td>\n",
       "      <td id=\"T_c3b8f_row5_col6\" class=\"data row5 col6\" >0.997546</td>\n",
       "      <td id=\"T_c3b8f_row5_col7\" class=\"data row5 col7\" >0.992940</td>\n",
       "      <td id=\"T_c3b8f_row5_col8\" class=\"data row5 col8\" >0.987098</td>\n",
       "    </tr>\n",
       "    <tr>\n",
       "      <th id=\"T_c3b8f_level0_row6\" class=\"row_heading level0 row6\" >2012</th>\n",
       "      <td id=\"T_c3b8f_row6_col0\" class=\"data row6 col0\" >-0.473087</td>\n",
       "      <td id=\"T_c3b8f_row6_col1\" class=\"data row6 col1\" >0.930583</td>\n",
       "      <td id=\"T_c3b8f_row6_col2\" class=\"data row6 col2\" >0.946666</td>\n",
       "      <td id=\"T_c3b8f_row6_col3\" class=\"data row6 col3\" >0.978419</td>\n",
       "      <td id=\"T_c3b8f_row6_col4\" class=\"data row6 col4\" >0.995095</td>\n",
       "      <td id=\"T_c3b8f_row6_col5\" class=\"data row6 col5\" >0.997546</td>\n",
       "      <td id=\"T_c3b8f_row6_col6\" class=\"data row6 col6\" >1.000000</td>\n",
       "      <td id=\"T_c3b8f_row6_col7\" class=\"data row6 col7\" >0.994081</td>\n",
       "      <td id=\"T_c3b8f_row6_col8\" class=\"data row6 col8\" >0.992918</td>\n",
       "    </tr>\n",
       "    <tr>\n",
       "      <th id=\"T_c3b8f_level0_row7\" class=\"row_heading level0 row7\" >2013</th>\n",
       "      <td id=\"T_c3b8f_row7_col0\" class=\"data row7 col0\" >-0.445658</td>\n",
       "      <td id=\"T_c3b8f_row7_col1\" class=\"data row7 col1\" >0.905970</td>\n",
       "      <td id=\"T_c3b8f_row7_col2\" class=\"data row7 col2\" >0.926138</td>\n",
       "      <td id=\"T_c3b8f_row7_col3\" class=\"data row7 col3\" >0.959372</td>\n",
       "      <td id=\"T_c3b8f_row7_col4\" class=\"data row7 col4\" >0.988389</td>\n",
       "      <td id=\"T_c3b8f_row7_col5\" class=\"data row7 col5\" >0.992940</td>\n",
       "      <td id=\"T_c3b8f_row7_col6\" class=\"data row7 col6\" >0.994081</td>\n",
       "      <td id=\"T_c3b8f_row7_col7\" class=\"data row7 col7\" >1.000000</td>\n",
       "      <td id=\"T_c3b8f_row7_col8\" class=\"data row7 col8\" >0.996377</td>\n",
       "    </tr>\n",
       "    <tr>\n",
       "      <th id=\"T_c3b8f_level0_row8\" class=\"row_heading level0 row8\" >2014</th>\n",
       "      <td id=\"T_c3b8f_row8_col0\" class=\"data row8 col0\" >-0.485629</td>\n",
       "      <td id=\"T_c3b8f_row8_col1\" class=\"data row8 col1\" >0.920686</td>\n",
       "      <td id=\"T_c3b8f_row8_col2\" class=\"data row8 col2\" >0.943218</td>\n",
       "      <td id=\"T_c3b8f_row8_col3\" class=\"data row8 col3\" >0.968689</td>\n",
       "      <td id=\"T_c3b8f_row8_col4\" class=\"data row8 col4\" >0.989140</td>\n",
       "      <td id=\"T_c3b8f_row8_col5\" class=\"data row8 col5\" >0.987098</td>\n",
       "      <td id=\"T_c3b8f_row8_col6\" class=\"data row8 col6\" >0.992918</td>\n",
       "      <td id=\"T_c3b8f_row8_col7\" class=\"data row8 col7\" >0.996377</td>\n",
       "      <td id=\"T_c3b8f_row8_col8\" class=\"data row8 col8\" >1.000000</td>\n",
       "    </tr>\n",
       "  </tbody>\n",
       "</table>\n"
      ],
      "text/plain": [
       "<pandas.io.formats.style.Styler at 0x1ecb6921448>"
      ]
     },
     "execution_count": 67,
     "metadata": {},
     "output_type": "execute_result"
    }
   ],
   "source": [
    "corrpib = pib.toPandas().corr(method='pearson')\n",
    "corrpib.style.background_gradient(cmap='coolwarm')"
   ]
  },
  {
   "cell_type": "markdown",
   "metadata": {},
   "source": [
    "En el caso de el conjunto de datos de PIB, se ve una fuerte correlacion entre los diferentes años, debido a que todos los datos se encuentran relacionados en el tiempo, esto indica que si los datos se graficaran, seria posible obtener una linea de tendencia con su ecuación que permita predecir el valor de PIB de otros años no presentes en el conjunto de datos."
   ]
  },
  {
   "cell_type": "markdown",
   "metadata": {},
   "source": [
    "Reporte de perfilamiento"
   ]
  },
  {
   "cell_type": "code",
   "execution_count": 77,
   "metadata": {},
   "outputs": [],
   "source": [
    "PATH='./'\n",
    "reporte = ProfileReport(pib.toPandas())\n"
   ]
  },
  {
   "cell_type": "code",
   "execution_count": 78,
   "metadata": {},
   "outputs": [
    {
     "data": {
      "application/vnd.jupyter.widget-view+json": {
       "model_id": "a4008e9cdde74baebec23097205ac0c4",
       "version_major": 2,
       "version_minor": 0
      },
      "text/plain": [
       "Summarize dataset:   0%|          | 0/5 [00:00<?, ?it/s]"
      ]
     },
     "metadata": {},
     "output_type": "display_data"
    },
    {
     "data": {
      "application/vnd.jupyter.widget-view+json": {
       "model_id": "397fa99443a94ebb96695a3b7092d8b9",
       "version_major": 2,
       "version_minor": 0
      },
      "text/plain": [
       "Generate report structure:   0%|          | 0/1 [00:00<?, ?it/s]"
      ]
     },
     "metadata": {},
     "output_type": "display_data"
    },
    {
     "data": {
      "application/vnd.jupyter.widget-view+json": {
       "model_id": "a862785cfd2941378364de1e24bbb89d",
       "version_major": 2,
       "version_minor": 0
      },
      "text/plain": [
       "Render HTML:   0%|          | 0/1 [00:00<?, ?it/s]"
      ]
     },
     "metadata": {},
     "output_type": "display_data"
    },
    {
     "data": {
      "application/vnd.jupyter.widget-view+json": {
       "model_id": "d675dcf5d1d844e295116b2a174dcfe3",
       "version_major": 2,
       "version_minor": 0
      },
      "text/plain": [
       "Export report to file:   0%|          | 0/1 [00:00<?, ?it/s]"
      ]
     },
     "metadata": {},
     "output_type": "display_data"
    }
   ],
   "source": [
    "reporte.to_file(PATH+\"pib_reporte_perfilamiento.html\")"
   ]
  },
  {
   "cell_type": "markdown",
   "metadata": {},
   "source": [
    "#### Resumen general del reporte de perfilamiento\n",
    "\n",
    "- Se tienen 10 variables y 27 registros o datos de pib, de estas variables 9 son numericas y 1 es categorica. Se observa que  no ha datos vacíos. (conclusion)\n",
    "- El archivo ocupa un tamaño en memoria de 2.2 KiB.\n",
    "- El set de datos contiene un 37.0% de registros duplicados.\n",
    "\n",
    "#### Seccion de variables:\n",
    "\n",
    "- Para cada variable se tienen datos estadisticos como la media, el minimo y máximo, asi como tambien un histograma de distribución de la variable. Para los datos no se observa nada por fuera de lo común como valores extremos.\n",
    "\n",
    "- Las variables OrdenDeCompraID u  FechaTransaccion tienen alta cardinalidad\n",
    "- Las variables CodigoDepartamento, Departamentos, 2006,2007,2008,2010,2011,2012,2013,2014, tienen alta correlación.\n",
    "- La variable CodigoDepartamento tiene valores en Zero, 1 en particular.\n",
    "- Las variables Departamentos, tiene algunos datos uniformes\n",
    "\n",
    "\n",
    "#### Seccion de interacciones y correlaciones:\n",
    "\n",
    "El gráfico de correlación de Spearman's parece indicar correlaciones cercanas a 1 entre la mayoria de variables correspondiente al pib anual de las variables variables analizadas, esto significa que ambas columnas representan la misma información, que si bien es de años diferentes, puede llegar a relacionarse y derivarse mediante una ecuación o curva de tendencia, la cual es muy util para saber el valor del PIb de cierto departamento en un año pasado o futuro teniendo la suficiente cantidad de datos y alta correlacion para derivar la curva apropiada."
   ]
  },
  {
   "cell_type": "markdown",
   "metadata": {},
   "source": [
    "### Completitud del análisis de la calidad de datos (40 puntos) "
   ]
  },
  {
   "cell_type": "markdown",
   "metadata": {
    "tags": []
   },
   "source": [
    "#### 2.1. Completitud: Datos que no existen o no se conocen"
   ]
  },
  {
   "cell_type": "markdown",
   "metadata": {
    "jp-MarkdownHeadingCollapsed": true,
    "tags": []
   },
   "source": [
    "#### 2.2. Unicidad: Datos que son idénticos en diferentes registros o registros con valores idénticos en atributos en los que no debería ocurrir"
   ]
  },
  {
   "cell_type": "markdown",
   "metadata": {},
   "source": [
    "#### 2.3. Consistencia: Esta medida se define por la validez o integridad del dato, en la definición de su estructura, al interior de una fila o entre diferentes filas de la misma fuente o de diferentes fuentes. El manejo de unidades en los datos y el significado del dato son generadores de inconsistencias."
   ]
  },
  {
   "cell_type": "markdown",
   "metadata": {},
   "source": [
    "#### 2.4 Validez: Datos correctos en el contextoCompletitud del análisis de la calidad de datos"
   ]
  },
  {
   "cell_type": "markdown",
   "metadata": {},
   "source": [
    "### Unicidad y validez"
   ]
  },
  {
   "cell_type": "markdown",
   "metadata": {},
   "source": [
    "La sección de valides se analizo con los analisis de las reglas de negocio 1, 2 y 3 de la sección 1.3."
   ]
  },
  {
   "cell_type": "markdown",
   "metadata": {},
   "source": [
    "#### Tabla proyeccionesCopia"
   ]
  },
  {
   "cell_type": "markdown",
   "metadata": {},
   "source": [
    "La unicidad se valida comprobando si existen proyecciones repetidas o identicas."
   ]
  },
  {
   "cell_type": "code",
   "execution_count": 84,
   "metadata": {},
   "outputs": [
    {
     "name": "stdout",
     "output_type": "stream",
     "text": [
      "Proyecciones totales: 330\n",
      "Proyecciones distintos: 330\n",
      "Proyecciones repetidas: 0\n"
     ]
    }
   ],
   "source": [
    "proyeccionesDistintas = proyecciones.distinct().count()\n",
    "totalProyecciones = proyecciones.count()\n",
    "diferenciaProyecciones = totalProyecciones - proyeccionesDistintas\n",
    "print(\"Proyecciones totales: \" + str(totalProyecciones))\n",
    "print(\"Proyecciones distintos: \" + str(proyeccionesDistintas))\n",
    "\n",
    "print(\"Proyecciones repetidas: \" + str(diferenciaProyecciones))"
   ]
  },
  {
   "cell_type": "markdown",
   "metadata": {},
   "source": [
    "Del conteo anterior se puede observar que no se tienen proyecciones repetidas"
   ]
  },
  {
   "cell_type": "markdown",
   "metadata": {},
   "source": [
    "#### Tabla pibCopia"
   ]
  },
  {
   "cell_type": "markdown",
   "metadata": {},
   "source": [
    "La unicidad se valida comprobando si existen pibs repetidos o identicos."
   ]
  },
  {
   "cell_type": "code",
   "execution_count": 87,
   "metadata": {},
   "outputs": [
    {
     "name": "stdout",
     "output_type": "stream",
     "text": [
      "PIB totales: 27\n",
      "PIB distintos: 17\n",
      "PIB repetidas: 10\n"
     ]
    }
   ],
   "source": [
    "pibDistintas = pib.distinct().count()\n",
    "totalPib = pib.count()\n",
    "diferenciaPib = totalPib - pibDistintas\n",
    "print(\"PIB totales: \" + str(totalPib))\n",
    "print(\"PIB distintos: \" + str(pibDistintas))\n",
    "\n",
    "print(\"PIB repetidas: \" + str(diferenciaPib))"
   ]
  },
  {
   "cell_type": "markdown",
   "metadata": {},
   "source": [
    "Del conteo anterior se puede observar que se tienen 10 pibs repetidos ya que los pib distintos no coinciden con la cantidad de pib totales."
   ]
  },
  {
   "cell_type": "code",
   "execution_count": 88,
   "metadata": {},
   "outputs": [
    {
     "name": "stdout",
     "output_type": "stream",
     "text": [
      "38%\n"
     ]
    }
   ],
   "source": [
    "import math\n",
    "print(str(math.ceil(diferenciaPib / totalPib * 100))+\"%\")"
   ]
  },
  {
   "cell_type": "markdown",
   "metadata": {},
   "source": [
    "Se tiene un 38% de registros repetidos, lo cual indica que hay un error con los datos y se debe notificar al negocio para entender la situación y decidir si se pueden borrar completamente estos registros."
   ]
  },
  {
   "cell_type": "code",
   "execution_count": 98,
   "metadata": {
    "tags": []
   },
   "outputs": [
    {
     "name": "stdout",
     "output_type": "stream",
     "text": [
      "+----------------------------+-----+\n",
      "|CodigoDepartamento(DIVIPOLA)|count|\n",
      "+----------------------------+-----+\n",
      "|                          94|    2|\n",
      "|                          95|    2|\n",
      "|                          41|    2|\n",
      "|                           8|    2|\n",
      "|                          76|    2|\n",
      "+----------------------------+-----+\n",
      "only showing top 5 rows\n",
      "\n"
     ]
    }
   ],
   "source": [
    "pib.groupby(\"CodigoDepartamento(DIVIPOLA)\").count().filter(col(\"count\") > 1).show(5)"
   ]
  },
  {
   "cell_type": "markdown",
   "metadata": {},
   "source": [
    "El anterior es una muestra de los registros duplicados en proyecciones"
   ]
  },
  {
   "cell_type": "markdown",
   "metadata": {},
   "source": [
    "### Completitud y validez"
   ]
  },
  {
   "cell_type": "code",
   "execution_count": 90,
   "metadata": {},
   "outputs": [],
   "source": [
    "from pyspark.sql.functions import trim\n",
    "def contar_vacios(df):\n",
    "    resultados = []\n",
    "    for c in df.columns:\n",
    "        vacios = df.filter(df[c].isNull()).count()\n",
    "        if vacios!=0:\n",
    "            print('número de vacíos para columna '+c+': '+str( vacios ))\n",
    "            resultados.append(vacios)\n",
    "        else:\n",
    "            vacios = df.filter(trim(df[c])==\"\").count()\n",
    "            if vacios!=0:\n",
    "                print('número de vacíos para columna '+c+': '+str( vacios ))\n",
    "                resultados.append(vacios)\n",
    "    return resultados\n",
    "\n",
    "def cardinalidad(df):\n",
    "    resultado = {}\n",
    "    for c in df.columns:\n",
    "        cardinalidad = df.select(col(c)).distinct().count()\n",
    "        if cardinalidad>=df.count()*0.5:\n",
    "            resultado[c] = cardinalidad\n",
    "    return resultado"
   ]
  },
  {
   "cell_type": "markdown",
   "metadata": {},
   "source": [
    "#### Tabla proyeccionesCopia"
   ]
  },
  {
   "cell_type": "code",
   "execution_count": 91,
   "metadata": {},
   "outputs": [
    {
     "name": "stdout",
     "output_type": "stream",
     "text": [
      "Proyecciones analisis de vacios \n",
      "Proyecciones analisis de cardinalidad \n",
      "{'Total Hombres': 329, 'Total Mujeres': 329}\n"
     ]
    }
   ],
   "source": [
    "print(\"Proyecciones analisis de vacios \")\n",
    "columnas_vacias_proyecciones = contar_vacios(proyecciones)\n",
    "print(\"Proyecciones analisis de cardinalidad \")\n",
    "columnas_alta_cardinalidad_proyecciones = cardinalidad(proyecciones)\n",
    "print(columnas_alta_cardinalidad_proyecciones)"
   ]
  },
  {
   "cell_type": "markdown",
   "metadata": {},
   "source": [
    "No se observan registros vacios en la tabla proyecciones"
   ]
  },
  {
   "cell_type": "markdown",
   "metadata": {},
   "source": [
    "#### Tabla pibCopia"
   ]
  },
  {
   "cell_type": "code",
   "execution_count": 92,
   "metadata": {},
   "outputs": [
    {
     "name": "stdout",
     "output_type": "stream",
     "text": [
      "Pib analisis de vacios \n",
      "Pib analisis de cardinalidad \n",
      "{'CodigoDepartamento(DIVIPOLA)': 17, 'DEPARTAMENTOS': 17, '2006': 17, '2007': 17, '2008': 17, '2010': 17, '2011': 17, '2012': 17, '2013': 17, '2014': 17}\n"
     ]
    }
   ],
   "source": [
    "print(\"Pib analisis de vacios \")\n",
    "columnas_vacias_pib = contar_vacios(pib)\n",
    "print(\"Pib analisis de cardinalidad \")\n",
    "columnas_alta_cardinalidad_pib = cardinalidad(pib)\n",
    "print(columnas_alta_cardinalidad_pib)"
   ]
  },
  {
   "cell_type": "code",
   "execution_count": 97,
   "metadata": {},
   "outputs": [
    {
     "name": "stdout",
     "output_type": "stream",
     "text": [
      "62.96296296296296\n"
     ]
    }
   ],
   "source": [
    "print(str(columnas_alta_cardinalidad_pib['CodigoDepartamento(DIVIPOLA)']/totalPib*100))"
   ]
  },
  {
   "cell_type": "markdown",
   "metadata": {},
   "source": [
    "No se tienen vacios en la tabla Pib"
   ]
  },
  {
   "cell_type": "markdown",
   "metadata": {},
   "source": [
    "Con respecto a la columna Codigo Departamento divipola se observa que tiene una cardinalidad del 63%"
   ]
  },
  {
   "cell_type": "markdown",
   "metadata": {
    "tags": []
   },
   "source": [
    "### Consistencia"
   ]
  },
  {
   "cell_type": "markdown",
   "metadata": {},
   "source": [
    "#### Tabla proyeccionesCopia"
   ]
  },
  {
   "cell_type": "markdown",
   "metadata": {},
   "source": [
    "A nivel de consistencia para proyecciones solo se nota que el valor DP o codigo de departamento se encuentra constante, lo cual ya se anoto en el analisis estadistico de la tabla."
   ]
  },
  {
   "cell_type": "code",
   "execution_count": 112,
   "metadata": {},
   "outputs": [
    {
     "name": "stdout",
     "output_type": "stream",
     "text": [
      "+---+\n",
      "| DP|\n",
      "+---+\n",
      "| 25|\n",
      "+---+\n",
      "\n"
     ]
    }
   ],
   "source": [
    "proyecciones.select(col('DP')).distinct().show()"
   ]
  },
  {
   "cell_type": "code",
   "execution_count": 114,
   "metadata": {},
   "outputs": [
    {
     "name": "stdout",
     "output_type": "stream",
     "text": [
      "+----+---+-------+-------------+-------------+\n",
      "|Anio| DP|  DPNOM|Total Hombres|Total Mujeres|\n",
      "+----+---+-------+-------------+-------------+\n",
      "|2005| 25|nariÃ±o|       746790|       763664|\n",
      "|2006| 25|nariÃ±o|       753747|       771363|\n",
      "|2007| 25|nariÃ±o|       759963|       778291|\n",
      "|2008| 25|nariÃ±o|       765214|       784359|\n",
      "|2009| 25|nariÃ±o|       769713|       790034|\n",
      "+----+---+-------+-------------+-------------+\n",
      "only showing top 5 rows\n",
      "\n"
     ]
    }
   ],
   "source": [
    "proyecciones.filter(proyecciones[\"DPNOM\"] == 'nariÃ±o').show(5)"
   ]
  },
  {
   "cell_type": "markdown",
   "metadata": {},
   "source": [
    "Se observa un problema de consistencia en la columna DPNOM ya que el departamento es conocido como nariño y tiene almacenados caracteres raros, por lo cual se reporta con el negocio."
   ]
  },
  {
   "cell_type": "markdown",
   "metadata": {},
   "source": [
    "El caracter Ã± corresponde a alguna letra particular o usa encoding para almacenar el dato?"
   ]
  },
  {
   "cell_type": "markdown",
   "metadata": {},
   "source": [
    "#### Tabla pibCopia"
   ]
  },
  {
   "cell_type": "markdown",
   "metadata": {},
   "source": [
    "A nivel de consistencia se revisa los valores de la columna CodigoDepartamento(DIVIPOLA) de la tabla proyeccionesCopia en relación con el tipo de codigo departamento de la tabla divipolaCopia. En este caso vamos se verificar que todos los CodigoDepartamento(DIVIPOLA) esten presentes en la tabla dipolaCopia."
   ]
  },
  {
   "cell_type": "code",
   "execution_count": 108,
   "metadata": {},
   "outputs": [
    {
     "name": "stdout",
     "output_type": "stream",
     "text": [
      "+----------------------------+\n",
      "|CodigoDepartamento(DIVIPOLA)|\n",
      "+----------------------------+\n",
      "|                          54|\n",
      "|                           0|\n",
      "|                          94|\n",
      "|                          95|\n",
      "|                          63|\n",
      "|                          52|\n",
      "|                          41|\n",
      "|                           5|\n",
      "|                           8|\n",
      "|                          11|\n",
      "|                          76|\n",
      "|                          18|\n",
      "|                          15|\n",
      "|                          23|\n",
      "|                          20|\n",
      "|                          99|\n",
      "|                          86|\n",
      "+----------------------------+\n",
      "\n"
     ]
    }
   ],
   "source": [
    "pib.select(col('CodigoDepartamento(DIVIPOLA)')).distinct().show()"
   ]
  },
  {
   "cell_type": "code",
   "execution_count": 110,
   "metadata": {},
   "outputs": [
    {
     "name": "stdout",
     "output_type": "stream",
     "text": [
      "+-------------------+\n",
      "|Código Departamento|\n",
      "+-------------------+\n",
      "|                 41|\n",
      "+-------------------+\n",
      "\n"
     ]
    }
   ],
   "source": [
    "divipola.select(col('Código Departamento')).distinct().show()"
   ]
  },
  {
   "cell_type": "markdown",
   "metadata": {},
   "source": [
    "Se observa un problema de consistencia debido a que solo se tiene el codigo 41 en la tabla de divipola, mientras en la tabla PIB se usan 17 codigos incluyendo el 0."
   ]
  },
  {
   "cell_type": "code",
   "execution_count": 119,
   "metadata": {},
   "outputs": [
    {
     "name": "stdout",
     "output_type": "stream",
     "text": [
      "+----------------------------+--------------------+-------+--------+--------------------+--------------------+--------+--------+--------------------+--------+\n",
      "|CodigoDepartamento(DIVIPOLA)|       DEPARTAMENTOS|   2006|    2007|                2008|                2010|    2011|    2012|                2013|    2014|\n",
      "+----------------------------+--------------------+-------+--------+--------------------+--------------------+--------+--------+--------------------+--------+\n",
      "|                          41|                uila|6895658| 7441987|   8686536.103258422|    9548624.85406653|11113741|11400169|1.1967750469189592E7|12755711|\n",
      "|                          18|            CaquetÃ¡|3575615| 4060678|   4519574.129383702|   5048396.606737779| 5516404| 6476778|    7161524.44383983| 7990249|\n",
      "|                           8|          AtlÃ¡ntico|7194985| 8299825|   8858405.054387597|   9481200.322350295|10288314|11421539|1.2434114309437651E7|13681473|\n",
      "|                          63|            QuindiÃ³|6350376| 6908084|  7449000.1041983375|   8274578.662692363| 9183441|10067779|1.0457303722966803E7|10917328|\n",
      "|                          76|            el valle|9364012|10568989|1.1278072598064829E7|1.2538425837418156E7|13461456|14347570|1.5262933073640093E7|16490649|\n",
      "|                          20|            El Cesar|7684507| 8146177|   9845956.914284049| 1.060369244638335E7|12692156|13176012|1.2414299180017455E7|12460838|\n",
      "|                          15|boyacaaaaaaaaaaaa...|8046451| 9523137|1.1059677686639624E7|1.2422311925286561E7|14744101|15572164| 1.640181715011036E7|17552741|\n",
      "|                          54|            norte de|4562230| 5093601|   5756904.272168976|   6377160.081745004| 6845992| 7152319|   7716659.361075875| 8310220|\n",
      "|                          86|            PUTUMAYO|4883522| 5617663|   7107721.504297101|   9697260.687378583|11967934|12049913|1.4234561981335444E7|13936142|\n",
      "|                          99|             VICHADA|4114080| 4091512|    4337203.79854487|   4285403.948100506| 4377994| 4639459|   4856888.325019439| 4733848|\n",
      "+----------------------------+--------------------+-------+--------+--------------------+--------------------+--------+--------+--------------------+--------+\n",
      "only showing top 10 rows\n",
      "\n"
     ]
    }
   ],
   "source": [
    "pib.show(10)"
   ]
  },
  {
   "cell_type": "markdown",
   "metadata": {},
   "source": [
    "A nivel de contenido de la columna DEPARTAMENTOS, se observan departamentos con nombres con caracteres especiales y datos que no tienen sentido como uila o boyacaaaaa. Se debe verificar esta columna en su totalidad con el negocio."
   ]
  },
  {
   "cell_type": "code",
   "execution_count": null,
   "metadata": {},
   "outputs": [],
   "source": [
    "La columna DEPARTAMENTOS de la tabla PIBCopia puede restaurarse o descartarse por completo?"
   ]
  },
  {
   "cell_type": "markdown",
   "metadata": {},
   "source": [
    "### Conclusión del entendimiento de datos (20 puntos)"
   ]
  },
  {
   "cell_type": "markdown",
   "metadata": {},
   "source": [
    "#### 3.1. Justificación de si es posible resolver los análisis basados en tableros de control propuestos."
   ]
  },
  {
   "cell_type": "markdown",
   "metadata": {},
   "source": [
    "- Considerando el requerimiento de Infraestructura visible, se considera que es posible llevar a cabo una solución con los datos suministrados ya que se dispone de la información necesaria especificada en el análisis requerido, no obstante, se deben realizar algunas correcciones a los datos (los registros identificados de faltantes de columnas de PIB deben suministrarse, los datos de la columna DEPARTAMENTOS  de PIB deben restaurarse), adicionalmente se debe obtener aclaraciones y justificación a algunas dudas encontradas durante el análisis.\n",
    "\n",
    "- Se debe aclarar con el negocio la variable faltantes de la tabla PIB ya que la regla # 1 se ve incumplida por que faltan las columnas de los años 2005,2009,2015,2016,10|7 y 2018, adicionalmente falta informacion para completar los datos de 32 departamentos.\n",
    "\n",
    "-  Se debe obtener mas información que permita obtener una relación clara PIB con la columna CodigoDepartamento(DIVIPOLA) y la tabla divipola debido a que en la primera tabla se tienen varios codigos mientras que en divipola solo hay uno.\n",
    "\n",
    "- Se debe obtener claridad sobre el dato constante de la columna DP de la tabla proyecciones para ver si es un error o se debe actualizar, ademas de actualizar el formato de algunos registros de la columna DPNOM por tener caracteres especiales."
   ]
  },
  {
   "cell_type": "markdown",
   "metadata": {
    "tags": []
   },
   "source": [
    "#### 3.2 Incluir la síntesis de lo que representa la fila promedio de los datos analizados.   "
   ]
  },
  {
   "cell_type": "markdown",
   "metadata": {},
   "source": [
    "**Conclusiones generales:**\n",
    "\n",
    "1. En la tabla de proyecciones tenemos información **relacionada con un DPNOM y DP distribuidos por diferentes años por cada registro de fila **.\n",
    "2. Una fila de proyecciones representa una cantidad Total de Hombres y Total de Mujeres que se esperan tener en cierto año para un departamento especifico.\n",
    "3. En la tabla de pib tenemos información **relacionada con un CodigoDepartamento(DIVIPOLA) y Departamentos distribuidos por diferentes años en columnas **.\n",
    "4. Una fila de pib representa la evolución a lo largo del tiempo del producto interno bruto de un departamento especifico.\n",
    "\n",
    "\n",
    "**Conclusiones de reglas de negocio:**\n",
    "\n",
    "1. Revisando la regla # 1, se tiene que la informacion del PIB es desde los años 2005 hasta 2018 para los 32 departamentos, sin embargo, se ven columnas de datos para los años 2006,2007,2008,2010,2011,2012,2013 y 2014. Pero hace falta informacion de los años 2005,2009,2015,2016,2017 y 2018, adicionalmente según el conteo de registros, se tienen 27 departamentos pero la regla indica 32. Esta disponible la información de PIB para los años 2005,2009,2015,2016,2017,2018 y para los 32 departamentos?\n",
    "2. Se empieza a ver inconsistencias en la regla # 2 que indica que la información de la tabla proyecciones va desde 2005 hasta 2015 y en lo que se ve solo se tienen datos hasta 2014. Por lo cual se reportara esta situación al negocio. La información de proyecciones va hasta el 2015? o hace falta la informacion de ese año?\n",
    "3. La regla 3 es correcta, debido a que analizando la busqueda filtrada de proyecciones para el departamento valle del cauca del año 2014 para total de hombres, se que es la misma cantidad indicada por la regla # 3 o 2110069.\n",
    "4. \n",
    "5. \n",
    "\n",
    "**Conclusiones de calidad:**\n",
    "1. Se tiene 10 datos duplicados en la tabla PIBS que se deben eliminar, sin embargo su eliminación hace que aumente el número de datos faltantes de los 32 departamentos especificados en las reglas de negocio.\n",
    "2. Se tienen valores constantes en una columna DP de la tabla proyecciones que indica que el dato o es constante o se especifico de forma incorrecta.\n",
    "3. Se tienen caracteres especiales que no se entienden en la columna DPNOM de la tabla proyecciones los cuales deben ser ajustados.\n",
    "4. De los CodigoDepartamento(DIVIPOLA) referenciados en la tabla proyecciones solo coincide un valor con los CodigoDepartamento de la tabla divipola, por lo cual debe especificarse si se cambian o se completa la tabla divipola.\n",
    "5. Se tiene la columna DEPARTAMENTOS con datos inconsistentes ya que los nombres de los departamentos difieren del nombre real ademas que algunos presentan caracteres especiales, por lo cual esta columna debe restaurarse o eliminarse. \n",
    "\n",
    "**Usando herramientas:**\n",
    "\n",
    "Seccion general del reporte:\n",
    "\n",
    "PIB\n",
    "1. Se tienen 10 variables y 27 registros o datos de pib, de estas variables 9 son numericas y 1 es categorica. \n",
    "2. Se observa que no ha datos vacíos. (conclusion)\n",
    "3. El archivo ocupa un tamaño en memoria de 2.2 KiB.\n",
    "4. El set de datos contiene un 37.0% de registros duplicados.\n",
    "5. La fila promedio de los resultados analizados carece de algún significado util ya que algunas de las columnas son categoricas como lo son el codigo de departamento y el departamento, solo se tendria un promedio estimado a nivel departamentos en conjunto del PIB de cada año.\n",
    "\n",
    "Proyecciones\n",
    "1. Se tienen 5 variables y 330 registros o proyecciones, de estas variables 3 son numericas y 2 son categoricas. \n",
    "2. Se observa que no ha datos vacíos. (conclusion)\n",
    "3. El archivo ocupa un tamaño en memoria de 7.9 KiB.\n",
    "4. El set de datos contiene un 0.0% de registros duplicados.\n",
    "5. La fila promedio de los resultados analizados carece de algún significado util ya que algunas de las columnas son categoricas como lo son el codigo de departamento y el año, solo se tendria un promedio estimado a nivel departamentos en conjunto del total de proyeccion de hombres y mujeres.\n",
    "\n",
    "Sección de variables del reporte:\n",
    "\n",
    "PIB\n",
    "1. Para cada variable se tienen datos estadisticos como la media, el minimo y máximo, asi como tambien un histograma de 2. distribución de la variable. Para los datos no se observa nada por fuera de lo común como valores extremos.\n",
    "3. Las variables OrdenDeCompraID u FechaTransaccion tienen alta cardinalidad\n",
    "4. Las variables CodigoDepartamento, Departamentos, 2006,2007,2008,2010,2011,2012,2013,2014, tienen alta correlación.\n",
    "5. La variable CodigoDepartamento tiene valores en Zero, 1 en particular.\n",
    "6. Las variables Departamentos, tiene algunos datos uniformes\n",
    "\n",
    "Proyecciones\n",
    "1. Para cada variable se tienen datos estadisticos como la media, el minimo y máximo, asi como tambien un histograma de distribución de la variable. \n",
    "2. Para los datos se observa solamente un valor extremo en la columna Total Mujeres que debera ser aclarado con el negocio.\n",
    "3. Las variables DPNOM y Anio son uniformes\n",
    "4. La variable DP es constante\n",
    "5. Las variables DPNOM,Total Hombres y Total Mujeres tienen alta correlación.\n",
    "\n",
    "Sección de interacciones y correlaciones:\n",
    "PIB\n",
    "1. El gráfico de correlación de Spearman's parece indicar correlaciones cercanas a 1 entre la mayoria de variables correspondiente al pib anual de las variables variables analizadas, esto significa que ambas columnas representan la misma información, que si bien es de años diferentes, puede llegar a relacionarse y derivarse mediante una ecuación o curva de tendencia, la cual es muy util para saber el valor del PIb de cierto departamento en un año pasado o futuro teniendo la suficiente cantidad de datos y alta correlacion para derivar la curva apropiada.\n",
    "\n",
    "Proyecciones\n",
    "1. El gráfico de correlación de Spearman's parece indicar correlaciones cercanas a 1 entre algunas variables, esto significa que ambas columnas representan la misma información, esto es verdad ya que el incremento de una población a lo largo del tiempo se puede tratar de forma conjunta para hombre y mujeres o se puede tratar de forma individual, sin embargo su comportamiento con tendencia al alza o a la baja es en la mayoria de departamentos el mismo."
   ]
  },
  {
   "cell_type": "markdown",
   "metadata": {},
   "source": [
    "#### 3.3 Lista de preguntas o comentarios realizados a la organización"
   ]
  },
  {
   "cell_type": "markdown",
   "metadata": {},
   "source": [
    "- La información de proyecciones va hasta el 2015? o hace falta la informacion de ese año?\n",
    "- El codigo de departamento DP es diferente para cada departamento en la tabla proyecciones? Si es asi, cual es el valor de DP para cada departamento?\n",
    "- Esta disponible la información de PIB para los años 2005,2009,2015,2016,2017,2018 y para los 32 departamentos?\n",
    "- El valor de proyeccion de Total Mujeres para el año 2009 y el departamento vichada es correcto?\n",
    "\n",
    "- Se tiene 38% de datos duplicados en la tabla PIB, estos registros duplicados se pueden eliminar?\n",
    "- El caracter Ã± de la tabla proyecciones corresponde a alguna letra particular o usa encoding para almacenar el dato de DPNOM?\n",
    "\n",
    "- La columna DEPARTAMENTOS de la tabla PIBCopia puede restaurarse o descartarse por completo?\n"
   ]
  },
  {
   "cell_type": "code",
   "execution_count": null,
   "metadata": {},
   "outputs": [],
   "source": []
  }
 ],
 "metadata": {
  "colab": {
   "collapsed_sections": [
    "qxN27II0Pn3T",
    "GnAScmClPn3W",
    "UuZspay3Pn3Z",
    "ZHLs1H0hPn3b",
    "QgkzeSm4Pn3b",
    "LZyQcqCvPn3c",
    "eDf54JyKPn3d",
    "ltTluhtIPn3e",
    "IPhtXcD1Pn3g",
    "-axExLnhPn3g",
    "YfSMeXZQPn3g"
   ],
   "name": "MISW-ETL-Entendimiento.ipynb",
   "provenance": []
  },
  "kernelspec": {
   "display_name": "Python 3 (ipykernel)",
   "language": "python",
   "name": "python3"
  },
  "language_info": {
   "codemirror_mode": {
    "name": "ipython",
    "version": 3
   },
   "file_extension": ".py",
   "mimetype": "text/x-python",
   "name": "python",
   "nbconvert_exporter": "python",
   "pygments_lexer": "ipython3",
   "version": "3.7.13"
  },
  "toc-autonumbering": true,
  "toc-showcode": true
 },
 "nbformat": 4,
 "nbformat_minor": 4
}
