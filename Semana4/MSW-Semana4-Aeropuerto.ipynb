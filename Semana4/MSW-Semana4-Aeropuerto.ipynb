{
 "cells": [
  {
   "cell_type": "markdown",
   "metadata": {},
   "source": [
    "# Proyecto 1: Entendimiento de los datos con PySpark (Aeropuerto)."
   ]
  },
  {
   "cell_type": "markdown",
   "metadata": {},
   "source": [
    "## Paso #1: Setup\n",
    "\n",
    "En esta seccion se hara el setup de la tarea, incluyendo librerias y estableciendo todo los prerequisitos para la correcta ejecucion de lo esperado en la actividad."
   ]
  },
  {
   "cell_type": "code",
   "execution_count": 1,
   "metadata": {},
   "outputs": [
    {
     "name": "stderr",
     "output_type": "stream",
     "text": [
      "C:\\Users\\estudiante\\anaconda3\\envs\\Tutoriales\\lib\\site-packages\\tqdm\\auto.py:22: TqdmWarning: IProgress not found. Please update jupyter and ipywidgets. See https://ipywidgets.readthedocs.io/en/stable/user_install.html\n",
      "  from .autonotebook import tqdm as notebook_tqdm\n",
      "C:\\Users\\estudiante\\anaconda3\\envs\\Tutoriales\\lib\\site-packages\\pyspark\\sql\\context.py:79: FutureWarning: Deprecated in 3.0.0. Use SparkSession.builder.getOrCreate() instead.\n",
      "  FutureWarning\n"
     ]
    },
    {
     "name": "stdout",
     "output_type": "stream",
     "text": [
      "La tabla extraida de la fuente de datos se ve de la siguiente manera: \n",
      "+-----+----+--------------------+--------------------+------------+----------+-------+--------+--------------------+--------------------+--------------+-----------+-------+-----------+---------+----------+------------------+--------------+-----+-----------+--------------------+----------------+-------------+\n",
      "|sigla|iata|              nombre|           municipio|departamento| categoria|latitud|longitud|         propietario|          explotador|longitud_pista|ancho_pista|   pbmo|orientacion|elevacion|resolucion|fecha_construccion|fecha_vigencia|clase|       tipo|numero_vuelos_origen|gcd_departamento|gcd_municipio|\n",
      "+-----+----+--------------------+--------------------+------------+----------+-------+--------+--------------------+--------------------+--------------+-----------+-------+-----------+---------+----------+------------------+--------------+-----+-----------+--------------------+----------------+-------------+\n",
      "|  9cg|    |san jose del ariporo|      Paz de Ariporo|    casanare|AerÃ³dromo|    500|-70.0128|           MUNICIPIO|           MUNICIPIO|           250|        8.0| 2000.0|           |    318.0|  4541,000|        2006-10-27|    2016-11-07|   1A|   PÃºblico|              -146.0|              85|        85250|\n",
      "|  mii|    |                mani|               ManÃ­|    casanare|AerÃ³dromo|    500|        |                    |                    |           250|        8.0|       |           |         |          |                  |              |     |           |               -20.0|              85|        85139|\n",
      "|  slo|    |           yaguarito|San Carlos de Guaroa|        meta|AerÃ³dromo|    500|        |                    |                    |           250|        8.0|       |           |         |          |                  |              |     |           |               -83.0|              50|        50680|\n",
      "|  bql|    |      barranquillita|          Miraflores|    guaviare|AerÃ³dromo|    500|-72.3258|         GOBERNACION|INS POL BARRANQUI...|           250|        8.0| 5000.0|           |    800.0|  2989,000|                  |              |   1A|   PÃºblico|               -79.0|              95|        95200|\n",
      "|  pro|    |              pororo|    AgustÃ­n Codazzi|       cesar|AerÃ³dromo|    500|-73.2687|   PALMAS PORORO SAS|   PALMAS PORORO SAS|           250|        8.0| 6000.0|           |    328.0|   276,000|                  |              |   1A|    Privado|                -6.0|              20|        20013|\n",
      "|  tes|    |             tesalia|             Tesalia|       huila|AerÃ³dromo|    500|        |                    |                    |           250|        8.0|       |           |         |          |                  |              |     |           |                 1.0|              41|        41797|\n",
      "|  cpl| CPL|         navas pardo|           Chaparral|      tolima|AerÃ³dromo|    500|-75.4654|           AEROCIVIL|           AEROCIVIL|           250|        8.0|       |           |   2729.0|   499,000|        1968-07-20|              |   2C|  Aerocivil|               538.0|              73|        73168|\n",
      "|  msi|    |         santa lucia|               MitÃº|      vaupes|AerÃ³dromo|    500|-70.0067|  RESGUARDO INDIGENA|GOBERNACION DEL V...|           250|        8.0| 3000.0|           |   1020.0|  3423,000|                  |              |   1A|   PÃºblico|              -186.0|              97|        97001|\n",
      "|  smd|    |            sabaneta|         San MartÃ­n|       cesar|AerÃ³dromo|    500|-73.5169|ALVARO ESCOBAR SA...|ALVARO ESCOBAR SA...|           250|        8.0| 5000.0|           |    318.0|  2494,000|                  |    2017-06-03|   1A|    Privado|                12.0|              20|        20770|\n",
      "|  pgn|    |            sabaneta|      Puerto GaitÃ¡n|        meta|AerÃ³dromo|    500|        |                    |                    |           250|        8.0|       |           |         |          |                  |              |     |           |               -10.0|              50|        50568|\n",
      "|  afd|    |             fadelce|             Armenia|     quindio|AerÃ³dromo|    500|        |                    |                    |           250|        8.0|       |           |         |          |                  |              |     |           |                -5.0|              63|        63001|\n",
      "|  mag|    |             manaure|             Manaure|  la guajira|AerÃ³dromo|    500|-72.4166|CONCESION DE SALI...|CONCESION DE SALI...|           250|        8.0|12202.0|           |     15.0|  2989,000|                  |              |   2C|    Privado|               -11.0|              44|        44560|\n",
      "|  vll|    |          villanueva|          Villanueva|  la guajira|AerÃ³dromo|    500|-73.0167|           MUNICIPIO|           MUNICIPIO|           250|        8.0| 4000.0|           |    600.0|  3660,000|                  |              |   1A|   PÃºblico|                 1.0|              44|        44874|\n",
      "|  9mo|    |         san nicolas|           Tauramena|    casanare|AerÃ³dromo|    500|-72.4575| CARLOS E. CONTRERAS|          ASAM LTDA.|           250|        8.0| 2000.0|           |    585.0|  4510,000|        2012-08-16|              |   1A|FumigaciÃ³n|                 0.0|              85|        85410|\n",
      "|  muz|    |                muzo|                Muzo|      boyaca|AerÃ³dromo|    500|-74.1128|           MUNICIPIO|           MUNICIPIO|           250|        8.0| 6400.0|           |   2952.0|          |                  |              |   1A|   PÃºblico|                 0.0|              15|        15480|\n",
      "|  gui|    |           guinulero|San AndrÃ©s de Tu...|     nariÃ±o|AerÃ³dromo|    500|        |                    |                    |           250|        8.0|       |           |         |          |                  |              |     |           |                -5.0|              52|        52835|\n",
      "|  sca|    |             suescun|San Carlos de Guaroa|        meta|AerÃ³dromo|    500|        |                    |                    |           250|        8.0|       |           |         |          |                  |              |     |           |                -2.0|              50|        50680|\n",
      "|  9db|    |palmas de tumaco ...|San AndrÃ©s de Tu...|     nariÃ±o|AerÃ³dromo|    500| -78.765|PALMAS DE TUMACO ...|PALMAS DE TUMACO ...|           250|        8.0|  500.0|           |    136.0|  1897,000|        2011-04-11|    2014-06-08|   UL|    Privado|                -1.0|              52|        52835|\n",
      "|  9mi|    |          la fortuna|       Puerto LÃ³pez|        meta|AerÃ³dromo|    500| -72.978|          SAAC S.A.S|          SAAC S.A.S|           250|        8.0| 3000.0|           |    690.0|          |        2012-04-03|    2012-07-03|   1A|FumigaciÃ³n|                 0.0|              50|        50573|\n",
      "|  myy| VAB|            yavarate|               MitÃº|      vaupes|AerÃ³dromo|    500|-69.2072|  RESGUARDO INDIGENA|GOBERNACION DEL V...|           250|        8.0| 1650.0|           |    400.0|  3423,000|                  |              |   1A|   PÃºblico|              -585.0|              97|        97001|\n",
      "+-----+----+--------------------+--------------------+------------+----------+-------+--------+--------------------+--------------------+--------------+-----------+-------+-----------+---------+----------+------------------+--------------+-----+-----------+--------------------+----------------+-------------+\n",
      "only showing top 20 rows\n",
      "\n"
     ]
    }
   ],
   "source": [
    "from pyspark.sql import SparkSession\n",
    "from pyspark.sql import functions\n",
    "from pyspark.sql.types import StructType\n",
    "from pyspark import SparkContext, SparkConf, SQLContext\n",
    "from pyspark.sql.types import FloatType, StringType, IntegerType, DateType\n",
    "from pyspark.sql.functions import udf, col, length, isnan, when, count, regexp_replace, abs\n",
    "import pyspark.sql.functions as f\n",
    "import os \n",
    "from datetime import datetime\n",
    "from pyspark.sql import types as t\n",
    "from pandas_profiling import ProfileReport\n",
    "import matplotlib.pyplot as plt\n",
    "import numpy as np\n",
    "\n",
    "path_jar_driver = 'C:\\Program Files (x86)\\MySQL\\Connector J 8.0\\mysql-connector-java-8.0.28.jar'\n",
    "\n",
    "conf=SparkConf() \\\n",
    "    .set('spark.driver.extraClassPath', path_jar_driver)\n",
    "\n",
    "spark_context = SparkContext(conf=conf)\n",
    "sql_context = SQLContext(spark_context)\n",
    "spark = sql_context.sparkSession\n",
    "\n",
    "db_connection_string = 'jdbc:mysql://157.253.236.116:8080/ProyectoTransaccional'\n",
    "db_user = 'Estudiante_103_202413'\n",
    "db_psswd = 'MISO_aabb1122'\n",
    "\n",
    "df_aeropuertos = spark.read.format('jdbc')\\\n",
    "    .option('url', db_connection_string) \\\n",
    "    .option('dbtable', '''(SELECT * FROM aeropuertosCopia ) AS Compatible''') \\\n",
    "    .option('user', db_user) \\\n",
    "    .option('password', db_psswd) \\\n",
    "    .option('driver', 'com.mysql.cj.jdbc.Driver') \\\n",
    "    .load()\n",
    "\n",
    "print(\"La tabla extraida de la fuente de datos se ve de la siguiente manera: \")\n",
    "df_aeropuertos.show()"
   ]
  },
  {
   "cell_type": "markdown",
   "metadata": {},
   "source": [
    "## Paso #2: Entendimiento de los Datos.\n",
    "En este paso se espera poder comprender mejor la informacion que se tienen en la estructura de datos.\n",
    "\n",
    "El negocio entrego un diccionario de datos que se puede observar en el siguiente [enlace](../Diccionario%20IV.xlsx)"
   ]
  },
  {
   "cell_type": "code",
   "execution_count": 2,
   "metadata": {},
   "outputs": [
    {
     "name": "stdout",
     "output_type": "stream",
     "text": [
      "En la siguiente impresion se puede ver los tipos de datos de la tabla extraida\n",
      "sigla , StringType\n",
      "iata , StringType\n",
      "nombre , StringType\n",
      "municipio , StringType\n",
      "departamento , StringType\n",
      "categoria , StringType\n",
      "latitud , IntegerType\n",
      "longitud , StringType\n",
      "propietario , StringType\n",
      "explotador , StringType\n",
      "longitud_pista , IntegerType\n",
      "ancho_pista , DoubleType\n",
      "pbmo , StringType\n",
      "orientacion , StringType\n",
      "elevacion , StringType\n",
      "resolucion , StringType\n",
      "fecha_construccion , StringType\n",
      "fecha_vigencia , StringType\n",
      "clase , StringType\n",
      "tipo , StringType\n",
      "numero_vuelos_origen , DoubleType\n",
      "gcd_departamento , IntegerType\n",
      "gcd_municipio , IntegerType\n"
     ]
    }
   ],
   "source": [
    "print(\"En la siguiente impresion se puede ver los tipos de datos de la tabla extraida\")\n",
    "for field in df_aeropuertos.schema.fields:\n",
    "    print(field.name +\" , \"+str(field.dataType))"
   ]
  },
  {
   "cell_type": "code",
   "execution_count": 3,
   "metadata": {},
   "outputs": [
    {
     "name": "stdout",
     "output_type": "stream",
     "text": [
      "La cantidad de registros obtenidos es de: 547\n"
     ]
    }
   ],
   "source": [
    "print('La cantidad de registros obtenidos es de: ' + str(df_aeropuertos.count()) )"
   ]
  },
  {
   "cell_type": "markdown",
   "metadata": {},
   "source": [
    "#### Significado de una Fila:\n",
    "\n",
    "Usando los datos presentados anteriormente se puede concluir que una Fila de esta tabla representa un resumen tecnico de la informacion de los aeropuertos de los que se tienen datosen Colombia, provee informacion muy tecnica y especializada de la aviacion (como el IATA, la categoria, el pbmo y la clase), pero tambien ofrece informacion que personas comunes puede consumir como nombre, municipio, latitud, longitud, etc."
   ]
  },
  {
   "cell_type": "markdown",
   "metadata": {},
   "source": [
    "### Analisis de Campos numericos"
   ]
  },
  {
   "cell_type": "code",
   "execution_count": 4,
   "metadata": {},
   "outputs": [
    {
     "name": "stdout",
     "output_type": "stream",
     "text": [
      "+-------+-------+--------------+------------------+--------------------+------------------+-----------------+\n",
      "|summary|latitud|longitud_pista|       ancho_pista|numero_vuelos_origen|  gcd_departamento|    gcd_municipio|\n",
      "+-------+-------+--------------+------------------+--------------------+------------------+-----------------+\n",
      "|  count|    547|           547|               547|                 547|               547|              547|\n",
      "|   mean|  500.0|         250.0|6.7714808043875685|   -1495.54844606947|62.029250457038394|62342.82998171847|\n",
      "| stddev|    0.0|           0.0|2.8868893676039455|  46097.478663370515| 28.13857428200601|28082.87921613649|\n",
      "|    min|    500|           250|               0.0|          -1028334.0|                 5|             5001|\n",
      "|    25%|    500|           250|               8.0|               -12.0|                47|            47058|\n",
      "|    50%|    500|           250|               8.0|                 0.0|                73|            73001|\n",
      "|    75%|    500|           250|               8.0|                 6.0|                85|            85230|\n",
      "|    max|    500|           250|               8.0|            207439.0|                99|            99773|\n",
      "+-------+-------+--------------+------------------+--------------------+------------------+-----------------+\n",
      "\n",
      "+-----------+-----+\n",
      "|ancho_pista|count|\n",
      "+-----------+-----+\n",
      "|        8.0|  463|\n",
      "|        0.0|   84|\n",
      "+-----------+-----+\n",
      "\n",
      "+--------------+-----+\n",
      "|longitud_pista|count|\n",
      "+--------------+-----+\n",
      "|           250|  547|\n",
      "+--------------+-----+\n",
      "\n",
      "+-------+-----+\n",
      "|latitud|count|\n",
      "+-------+-----+\n",
      "|    500|  547|\n",
      "+-------+-----+\n",
      "\n"
     ]
    }
   ],
   "source": [
    "df_aeropuertos_num = df_aeropuertos.select('latitud', 'longitud_pista', 'ancho_pista', \"numero_vuelos_origen\", 'gcd_departamento', 'gcd_municipio')\n",
    "df_aeropuertos_num.summary().show()\n",
    "\n",
    "df_aeropuertos_ancho_pista = df_aeropuertos.groupby('ancho_pista').count().show()\n",
    "df_aeropuertos_longitud_pista = df_aeropuertos.groupby('longitud_pista').count().show()\n",
    "df_aeropuertos_latitud = df_aeropuertos.groupby('latitud').count().show()"
   ]
  },
  {
   "cell_type": "markdown",
   "metadata": {},
   "source": [
    "Con este analisis numericos podemos desprender los siguientes aprendizajes:\n",
    "\n",
    "- La longitud de pista es de 250 siempre, ya que la desviacion estandar es 0.0\n",
    "- Existen 84 registros con 0.0 de ancho de pista.\n",
    "- Todos los registros tienen latitud 500.\n",
    "- El numero de vuelos cuyo origen es el aeropuerto en cuestion tiene un deviacion estandar en donde los valores del percentil 75% es 6 y el maximo es 207439.\n",
    "- Existen numeros de vuelos cuyo origen es el aeropuerto en cuestion negativos, esto tal vez se deba a algun tipo de error.\n",
    "- Los campos de `gcd_departamento` y `gcd_municipio` poseen una sana distribucion y relacion entre ellos lo que puede indicar que los valores estan correctos.\n"
   ]
  },
  {
   "cell_type": "markdown",
   "metadata": {},
   "source": [
    "#### Analisis descriptivo de los datos:"
   ]
  },
  {
   "cell_type": "code",
   "execution_count": 5,
   "metadata": {},
   "outputs": [
    {
     "name": "stdout",
     "output_type": "stream",
     "text": [
      "+-----+----+--------------------+--------------------+------------+----------+--------+-----------------+--------------------+------+-----------+---------+----------+------------------+--------------+-----+--------+\n",
      "|sigla|iata|              nombre|           municipio|departamento| categoria|longitud|      propietario|          explotador|  pbmo|orientacion|elevacion|resolucion|fecha_construccion|fecha_vigencia|clase|    tipo|\n",
      "+-----+----+--------------------+--------------------+------------+----------+--------+-----------------+--------------------+------+-----------+---------+----------+------------------+--------------+-----+--------+\n",
      "|  9cg|    |san jose del ariporo|      Paz de Ariporo|    casanare|AerÃ³dromo|-70.0128|        MUNICIPIO|           MUNICIPIO|2000.0|           |    318.0|  4541,000|        2006-10-27|    2016-11-07|   1A|PÃºblico|\n",
      "|  mii|    |                mani|               ManÃ­|    casanare|AerÃ³dromo|        |                 |                    |      |           |         |          |                  |              |     |        |\n",
      "|  slo|    |           yaguarito|San Carlos de Guaroa|        meta|AerÃ³dromo|        |                 |                    |      |           |         |          |                  |              |     |        |\n",
      "|  bql|    |      barranquillita|          Miraflores|    guaviare|AerÃ³dromo|-72.3258|      GOBERNACION|INS POL BARRANQUI...|5000.0|           |    800.0|  2989,000|                  |              |   1A|PÃºblico|\n",
      "|  pro|    |              pororo|    AgustÃ­n Codazzi|       cesar|AerÃ³dromo|-73.2687|PALMAS PORORO SAS|   PALMAS PORORO SAS|6000.0|           |    328.0|   276,000|                  |              |   1A| Privado|\n",
      "+-----+----+--------------------+--------------------+------------+----------+--------+-----------------+--------------------+------+-----------+---------+----------+------------------+--------------+-----+--------+\n",
      "only showing top 5 rows\n",
      "\n",
      "+----------+-----+\n",
      "| categoria|count|\n",
      "+----------+-----+\n",
      "|AerÃ³dromo|  506|\n",
      "|          |   41|\n",
      "+----------+-----+\n",
      "\n",
      "+-----------+-----+\n",
      "|       tipo|count|\n",
      "+-----------+-----+\n",
      "|   PÃºblico|  123|\n",
      "|    Privado|   92|\n",
      "|FumigaciÃ³n|  154|\n",
      "|           |  141|\n",
      "|  Aerocivil|   37|\n",
      "+-----------+-----+\n",
      "\n",
      "+-----+-----+\n",
      "|clase|count|\n",
      "+-----+-----+\n",
      "|   1A|  299|\n",
      "|   3B|    2|\n",
      "|   UL|    8|\n",
      "|   4C|    7|\n",
      "|   3D|    2|\n",
      "|   4E|    2|\n",
      "|   2A|   29|\n",
      "|   3C|   18|\n",
      "|   2B|   16|\n",
      "|   4A|    2|\n",
      "|   3A|    2|\n",
      "|   1B|    8|\n",
      "|   4D|    2|\n",
      "|     |  141|\n",
      "|   2C|    9|\n",
      "+-----+-----+\n",
      "\n"
     ]
    }
   ],
   "source": [
    "df_aeropuertos_desc = df_aeropuertos.select('sigla', 'iata', 'nombre', 'municipio', 'departamento', 'categoria', 'longitud', 'propietario', 'explotador', 'pbmo', 'orientacion', 'elevacion', 'resolucion', 'fecha_construccion', 'fecha_vigencia', 'clase', 'tipo')\n",
    "df_aeropuertos_desc.show(5)\n",
    "\n",
    "df_aeropuertos_categoria = df_aeropuertos.groupby('categoria').count().show()\n",
    "df_aeropuertos_tipo = df_aeropuertos.groupby('tipo').count().show()\n",
    "df_aeropuertos_clase = df_aeropuertos.groupby('clase').count().show()"
   ]
  },
  {
   "cell_type": "markdown",
   "metadata": {},
   "source": [
    "Con el analisis descriptivo anterior se pueden extraer las siguientes conclusiones:\n",
    "\n",
    "- Existen muchos registros con cadenas de caracteres vacias, es decir `\"\"`.\n",
    "- Existen errores de codificacion UTF, ya que algunos caracteres especiales del español como letras con acentos tal vez necesiten tratamiento para ser mas explicitos."
   ]
  },
  {
   "cell_type": "markdown",
   "metadata": {},
   "source": [
    "## Paso #3: Analisis de Calidad de los Datos.\n",
    "En este paso se espera identificar areas de oportunidad en los datos suministrados."
   ]
  },
  {
   "cell_type": "markdown",
   "metadata": {},
   "source": [
    "#### Unicidad y validez:\n",
    "\n",
    "En esta seccion se verificara la existencia o no de datos duplicados."
   ]
  },
  {
   "cell_type": "code",
   "execution_count": 6,
   "metadata": {},
   "outputs": [
    {
     "name": "stdout",
     "output_type": "stream",
     "text": [
      "Existen 443 registros unicos por sigla, de un total de 547\n",
      "Existen 53 registros unicos por IATA, de un total de 547\n",
      "Porcentaje de Valores de Siglas Duplicados: 19.012797074954296%\n",
      "Porcentaje de Valores de IATA Duplicados: 90.31078610603291%\n"
     ]
    }
   ],
   "source": [
    "unicos_siglas = df_aeropuertos.select(\"sigla\").distinct().count()\n",
    "unicos_iata = df_aeropuertos.select(\"iata\").distinct().count()\n",
    "totales = df_aeropuertos.count()\n",
    "\n",
    "print('Existen ' + str(unicos_siglas) + ' registros unicos por sigla, de un total de ' + str(totales) )\n",
    "print('Existen ' + str(unicos_iata) + ' registros unicos por IATA, de un total de ' + str(totales) )\n",
    "print (\"Porcentaje de Valores de Siglas Duplicados: \" + str(((totales - unicos_siglas ) / totales )* 100) + \"%\" )\n",
    "print (\"Porcentaje de Valores de IATA Duplicados: \" + str(((totales - unicos_iata ) / totales )* 100) + \"%\" )\n"
   ]
  },
  {
   "cell_type": "markdown",
   "metadata": {},
   "source": [
    "**Duplicados Logicos**\n",
    "\n",
    "Para los duplicados logicos se utilizo unicamente los camposde `siglas` y `iata`, campos que representan identificadores unicos para los aeropuertos uno asignado a nivel nacional y el otro a nivel internacional.\n",
    "\n",
    "Con el analisis anterior podemos ver que usando los identificadores principales de los registros que son las siglas y el campo de IATA, se pueden ver que existen maximo 443 registros unicos, quedando un porcentaje de al menos 19% de datos duplicados.\n",
    "\n",
    "Existe la posibilidad que diversos aeropuertos no cuenten con un vampo de `iata` dado que no tenga vuelos internacionales, por eso solo se considero el campo de siglas para ete analisis."
   ]
  },
  {
   "cell_type": "code",
   "execution_count": 7,
   "metadata": {},
   "outputs": [
    {
     "name": "stdout",
     "output_type": "stream",
     "text": [
      "La cantidad de registros duplicados totales es de 103\n",
      "Porcentaje de Valores de Duplicados totale: 18.82998171846435%\n"
     ]
    }
   ],
   "source": [
    "duplicados_totales = df_aeropuertos.count() - df_aeropuertos.distinct().count()\n",
    "print(\"La cantidad de registros duplicados totales es de \" + str(duplicados_totales))\n",
    "\n",
    "print (\"Porcentaje de Valores de Duplicados totale: \" + str((duplicados_totales / totales )* 100) + \"%\" )"
   ]
  },
  {
   "cell_type": "markdown",
   "metadata": {},
   "source": [
    "**Duplicados Totales**\n",
    "\n",
    "En el analisis anterior podemos ver que a nivel de duplicados totales existen 103 registros que son duplicados totales correspondiente a un 18.8 porciento del total de registros."
   ]
  },
  {
   "cell_type": "markdown",
   "metadata": {},
   "source": [
    "**Despues de todo el analisis a nivel de Unicidad se puede considerar que los datos posee un nivel de calidad medio en este apartados, ya que con valores repetidos de entre el 18 y 19 por ciento, deberia el negocio revisar sus fuentes de datos y encontrar la manera de distinguir entre los registro con la misma informacion**"
   ]
  },
  {
   "cell_type": "markdown",
   "metadata": {},
   "source": [
    "#### Completitud y validez:"
   ]
  },
  {
   "cell_type": "code",
   "execution_count": 8,
   "metadata": {},
   "outputs": [
    {
     "name": "stdout",
     "output_type": "stream",
     "text": [
      "La columna sigla no presenta filas vacias.\n",
      "La columna iata no presenta filas vacias.\n",
      "La columna nombre no presenta filas vacias.\n",
      "La columna municipio no presenta filas vacias.\n",
      "La columna departamento no presenta filas vacias.\n",
      "La columna categoria no presenta filas vacias.\n",
      "La columna latitud no presenta filas vacias.\n",
      "La columna longitud no presenta filas vacias.\n",
      "La columna propietario no presenta filas vacias.\n",
      "La columna explotador no presenta filas vacias.\n",
      "La columna longitud_pista no presenta filas vacias.\n",
      "La columna ancho_pista no presenta filas vacias.\n",
      "La columna pbmo no presenta filas vacias.\n",
      "La columna orientacion no presenta filas vacias.\n",
      "La columna elevacion no presenta filas vacias.\n",
      "La columna resolucion no presenta filas vacias.\n",
      "La columna fecha_construccion no presenta filas vacias.\n",
      "La columna fecha_vigencia no presenta filas vacias.\n",
      "La columna clase no presenta filas vacias.\n",
      "La columna tipo no presenta filas vacias.\n",
      "La columna numero_vuelos_origen no presenta filas vacias.\n",
      "La columna gcd_departamento no presenta filas vacias.\n",
      "La columna gcd_municipio no presenta filas vacias.\n"
     ]
    }
   ],
   "source": [
    "def contar_vacios(df):\n",
    "    resultados = []\n",
    "    for c in df.columns:\n",
    "        vacios = df.filter(df[c].isNull()).count()\n",
    "        if vacios!=0:\n",
    "            print('número de vacíos para columna '+c+': '+str( vacios ))\n",
    "            resultados.append(vacios)\n",
    "        else:\n",
    "            print('La columna '+c+' no presenta filas vacias.')\n",
    "    return resultados\n",
    "\n",
    "columnas_vacias = contar_vacios(df_aeropuertos)"
   ]
  },
  {
   "cell_type": "code",
   "execution_count": 9,
   "metadata": {},
   "outputs": [
    {
     "name": "stdout",
     "output_type": "stream",
     "text": [
      "+-----+----+------+---------+------------+---------+-------+--------+-----------+----------+--------------+-----------+----+-----------+---------+----------+------------------+--------------+-----+----+--------------------+----------------+-------------+\n",
      "|sigla|iata|nombre|municipio|departamento|categoria|latitud|longitud|propietario|explotador|longitud_pista|ancho_pista|pbmo|orientacion|elevacion|resolucion|fecha_construccion|fecha_vigencia|clase|tipo|numero_vuelos_origen|gcd_departamento|gcd_municipio|\n",
      "+-----+----+------+---------+------------+---------+-------+--------+-----------+----------+--------------+-----------+----+-----------+---------+----------+------------------+--------------+-----+----+--------------------+----------------+-------------+\n",
      "|    0|   0|     0|        0|           0|        0|      0|       0|          0|         0|             0|          0|   0|          0|        0|         0|                 0|             0|    0|   0|                   0|               0|            0|\n",
      "+-----+----+------+---------+------------+---------+-------+--------+-----------+----------+--------------+-----------+----+-----------+---------+----------+------------------+--------------+-----+----+--------------------+----------------+-------------+\n",
      "\n"
     ]
    }
   ],
   "source": [
    "df_aeropuertos.select([count(when(isnan(c) | col(c).isNull(), c)).alias(c) for c in df_aeropuertos.columns]\n",
    "   ).show()"
   ]
  },
  {
   "cell_type": "markdown",
   "metadata": {},
   "source": [
    "Con los dos bloques anteriores podemos ver que en los registros extraidos no existe datos vacios o nulos, pero gracias a la inspeccion visual y elanalisis de datos descriptivos que se hizo en el paso anterior se puede determinar que la existencia de datos con cadena de caracteres vacias (es decir \"\") pueden enmascarar problemas de completitud que el negocio seguramente querrar atender."
   ]
  },
  {
   "cell_type": "code",
   "execution_count": 10,
   "metadata": {},
   "outputs": [
    {
     "name": "stdout",
     "output_type": "stream",
     "text": [
      "+-----+----+------+---------+------------+---------+-------+--------+-----------+----------+--------------+-----------+----+-----------+---------+----------+------------------+--------------+-----+----+--------------------+----------------+-------------+\n",
      "|sigla|iata|nombre|municipio|departamento|categoria|latitud|longitud|propietario|explotador|longitud_pista|ancho_pista|pbmo|orientacion|elevacion|resolucion|fecha_construccion|fecha_vigencia|clase|tipo|numero_vuelos_origen|gcd_departamento|gcd_municipio|\n",
      "+-----+----+------+---------+------------+---------+-------+--------+-----------+----------+--------------+-----------+----+-----------+---------+----------+------------------+--------------+-----+----+--------------------+----------------+-------------+\n",
      "|    0| 482|     0|        0|           0|       41|      0|     140|        141|       141|             0|          0| 194|        547|      141|       147|               383|           460|  141| 141|                   0|               0|            0|\n",
      "+-----+----+------+---------+------------+---------+-------+--------+-----------+----------+--------------+-----------+----+-----------+---------+----------+------------------+--------------+-----+----+--------------------+----------------+-------------+\n",
      "\n"
     ]
    }
   ],
   "source": [
    "df_aeropuertos.select([count(when(col(c) == \"\",c)).alias(c) for c in df_aeropuertos.columns]\n",
    "   ).show()"
   ]
  },
  {
   "cell_type": "markdown",
   "metadata": {},
   "source": [
    "Con el bloque anterior se puede comprobar que existen hasta 547 registros con valores de cadenas de caracteres vacios (para la columna de orientacion) que pueden afecta como se interpreta la completitud de los datos."
   ]
  },
  {
   "cell_type": "code",
   "execution_count": 11,
   "metadata": {},
   "outputs": [
    {
     "name": "stdout",
     "output_type": "stream",
     "text": [
      " Las columnas con Alta cardinalidad son: {'sigla': 443, 'nombre': 413, 'longitud': 324}\n",
      " Las columnas con Baja cardinalidad son: {'iata': 53, 'municipio': 179, 'departamento': 32, 'categoria': 2, 'latitud': 1, 'propietario': 204, 'explotador': 156, 'longitud_pista': 1, 'ancho_pista': 2, 'pbmo': 38, 'orientacion': 1, 'elevacion': 244, 'resolucion': 255, 'fecha_construccion': 90, 'fecha_vigencia': 57, 'clase': 15, 'tipo': 5, 'numero_vuelos_origen': 204, 'gcd_departamento': 32, 'gcd_municipio': 181}\n"
     ]
    }
   ],
   "source": [
    "def cardinalidad(df):\n",
    "    resultado = {}\n",
    "    baja_cardinalaidad = {}\n",
    "    for c in df.columns:\n",
    "        cardinalidad = df.select(col(c)).distinct().count()\n",
    "        if cardinalidad>=df.count()*0.5:\n",
    "            resultado[c] = cardinalidad\n",
    "        else:\n",
    "            baja_cardinalaidad[c] = cardinalidad\n",
    "    return resultado, baja_cardinalaidad\n",
    "\n",
    "columnas_alta_cardinalidad, columnas_baja_cardinalidad  = cardinalidad(df_aeropuertos)\n",
    "print(\" Las columnas con Alta cardinalidad son: \" + str(columnas_alta_cardinalidad) )\n",
    "print(\" Las columnas con Baja cardinalidad son: \" + str(columnas_baja_cardinalidad) )"
   ]
  },
  {
   "cell_type": "markdown",
   "metadata": {},
   "source": [
    "Con este analisis podemos concluir que ninguna de las columnas de la tabla posee alta cardinalidad, ya que como resultado del bloque anterior las columnas del tipo identificador unicos (`siglas` y `nombre`) son de las poseen alta cardinalidad, asi como el campo de `longitud`, son en donde se esperan muchos valores unicos al ser informacion unica de cada aeropuerto.\n",
    "\n",
    "\n",
    "**Con estos dos analisis se puede determinar que nuestros datos poseen un buen nivel de Completitud, ya que no existen celdas dentro de los registros vacios y las cardinalidades indican baja relacion entre los elementos de la tabla.**"
   ]
  },
  {
   "cell_type": "markdown",
   "metadata": {},
   "source": [
    "#### Consistencia:\n",
    "\n",
    "A nivel de consistencia verifcaremos lo siguiente:\n",
    "\n",
    "- Que exista una relacion 1 a 1 entrelos campos de `departamento` y `gcd_departamento`, y que ambas columnas estan relacionadas al proveer la misma informacion, solo con dos representaciones diferentes.\n",
    "- Que exista una relacion 1 a 1 entrelos campos de `municipio` y `gcd_municipio`, y que ambas columnas estan relacionadas al proveer la misma informacion, solo con dos representaciones diferentes.\n",
    "- Que los datos de `numero_vuelos_origen` correspondan a datos validos."
   ]
  },
  {
   "cell_type": "code",
   "execution_count": 12,
   "metadata": {},
   "outputs": [
    {
     "name": "stdout",
     "output_type": "stream",
     "text": [
      "La cantidad de Departamentos que tienen aeropuerto segun nuestros registros son: 32\n",
      "la cantidad de gcd_departamentos unicos son de : 32\n"
     ]
    }
   ],
   "source": [
    "aero_dep_unicos = df_aeropuertos.select('departamento').distinct().count()\n",
    "aero_gcddep_unicos = df_aeropuertos.select('gcd_departamento').distinct().count()\n",
    "\n",
    "print('La cantidad de Departamentos que tienen aeropuerto segun nuestros registros son: ' + str(aero_dep_unicos) )\n",
    "print('la cantidad de gcd_departamentos unicos son de : ' + str(aero_gcddep_unicos) )"
   ]
  },
  {
   "cell_type": "code",
   "execution_count": 13,
   "metadata": {},
   "outputs": [
    {
     "name": "stdout",
     "output_type": "stream",
     "text": [
      "La cantidad de Municipios que tienen aeropuerto segun nuestros registros son: 179\n",
      "la cantidad de gcd_municipio unicos son de : 181\n"
     ]
    }
   ],
   "source": [
    "aero_mun_unicos = df_aeropuertos.select('municipio').distinct().count()\n",
    "aero_gcdmun_unicos = df_aeropuertos.select('gcd_municipio').distinct().count()\n",
    "\n",
    "print('La cantidad de Municipios que tienen aeropuerto segun nuestros registros son: ' + str(aero_mun_unicos) )\n",
    "print('la cantidad de gcd_municipio unicos son de : ' + str(aero_gcdmun_unicos) )"
   ]
  },
  {
   "cell_type": "code",
   "execution_count": 14,
   "metadata": {},
   "outputs": [
    {
     "name": "stdout",
     "output_type": "stream",
     "text": [
      "La cantidad de registros con vuelos de origen con valor de 0 o menos es de : 346\n"
     ]
    }
   ],
   "source": [
    "num_vuelos_negativos = df_aeropuertos.where(df_aeropuertos.numero_vuelos_origen <= 0).count()\n",
    "\n",
    "print('La cantidad de registros con vuelos de origen con valor de 0 o menos es de : ' + str( num_vuelos_negativos))"
   ]
  },
  {
   "cell_type": "markdown",
   "metadata": {},
   "source": [
    "**Con lo anterior se puede concluir que los datos poseen un buen nivel de consistencia a nivel de Departamente, pero a nivel de Municipio y numero de vuelos de origen existen algunos registros inconsistentes, por esto se le otorgara un valor de Consitencia Media**."
   ]
  },
  {
   "cell_type": "markdown",
   "metadata": {},
   "source": [
    "## Paso #4: Conclusiones del Entendimiento de los Datos:\n",
    "\n",
    "En esta seccion nos enfocaremos en suministrar conclusiones a raiz de los pasos anteriores:"
   ]
  },
  {
   "cell_type": "markdown",
   "metadata": {},
   "source": [
    "Como conclusion de la actividad de entendimiento de datos y analisis de calidad para la tabla de AeropuertosCopia, podemos decir que la misma necesita un poco de retrabajo, se encontraron muchos datos que si bien no estan vacios, corresponden a cadenas de caracteres vacios, se encontraron columnas que representan la misma informacion pero con representaciones de datos dierentes.\n",
    "\n",
    "Se recomienda al negocio revisar las preguntas propuestas en la siguiente seccion para intentar mejorar la calidad de los datos y poder proseguir con el desarrollo del proyecto.\n",
    "\n",
    "**Se puede concluir a nivel general que los datos extraido de esta tabla (AeropuertoCopia) posee un nivel de Calidad media, en donde se recomienda mejorar esta calidad para lograr un mayor porcentaje de exito y aprovechamiento por parte del negocio de este proyecto. No existen muchos datos inconsistentes, es por esto que se puede continuar con el proyecto con ciertas acalaracion.**"
   ]
  },
  {
   "cell_type": "markdown",
   "metadata": {
    "tags": []
   },
   "source": [
    "### Preguntas al Negocio:\n",
    "\n",
    "En esta seccion enlistaremos las dudas que hayan surguido y las aclaraciones necesarias para poder continuar con el desarrollo del proyecto."
   ]
  },
  {
   "cell_type": "markdown",
   "metadata": {},
   "source": [
    "#### Tipos de Datos:\n",
    "\n",
    "Algunos campos de la tabla poseen tipos de datos que no reflejan los tipos de datos que desean contener, la pregunta al negocio seria: **Se puede clarificar si estos comportamientos son esperados**.\n",
    "\n",
    "Por ejemplo:\n",
    "- latitud, posee el tipo de IntegerType que puede perder precisión de la ubicacion del aeropuerto.\n",
    "- longitud, posee el tipo de StringType que no representa un numero lo que facilitaria su analisis correcto.\n",
    "- pbmo , posee el tipo de StringType que no representa un numero lo que facilitaria su analisis correcto.\n",
    "- elevacion, posee el tipo de StringType que no representa un numero lo que facilitaria su analisis correcto."
   ]
  },
  {
   "cell_type": "markdown",
   "metadata": {},
   "source": [
    "#### Datos posiblemente equivocados:\n",
    "\n",
    "Algunos campos tienen datos que no hacen sentido en el contexto de la informacion presentada. **Podria el negocio aclarar lel significado de los siguiente:**\n",
    "\n",
    "- Ancho de Pista igual a 0. (84 registros).\n",
    "- Todos los registros tienen como longitud el mismo valor.\n",
    "- Numero de vuelos cuyo origen es el aeropuerto en cuestion con valores negativos.\n",
    "- Existen datos con equivocada codificacion UTF que necesitarian correccion para su propia lectura de los usuarios."
   ]
  },
  {
   "cell_type": "markdown",
   "metadata": {},
   "source": [
    "#### Posibles columnas a eliminar:\n",
    "\n",
    "Con el analisis de los datos realizados existen columnas que podrian no aportar suficiente valor para ser considerad e el Analisis, **Podria el negocio confirmar que la eliminicion de estas es aceptable:**\n",
    "\n",
    "- La longitud de pista siempre corresponde a 250 m, esto puede tratarse de un estandar nacional o internacional y podemos eliminar este parametro de los analisis.\n",
    "- Los campos de `gcd_departamento` y `departamento`, asi como `gcd_municipio` y `municipio` pueden estar expresando la misma informacion, y podriamos eliminar alguno de estos en los analisis.\n",
    "- El campo de `orientacion` esta compuesto en su totalidad por cadenas de caracteres vacias que hace que no tenga sentido conservarla."
   ]
  },
  {
   "cell_type": "markdown",
   "metadata": {},
   "source": [
    "#### Posibles datos faltantes:\n",
    "\n",
    "Despues de hacer el analisis de completitud en el apartado de calidad en los datos, nos podemos cuestionar si no existiran datos faltantes en los registros entregados, esto dado a que existen una columna totalmente llena de cadenas de caracteres vacias (`orientacion`) pero ademas existen otras columnas con muchas cadenas de caracteres vacias en su contenido. **Podriael negocio revisar este punto y sugerir una forma de atender el problema**"
   ]
  },
  {
   "cell_type": "markdown",
   "metadata": {},
   "source": [
    "## Paso #5: Clean Up\n",
    "En esta seccion haremos limpieza de la sesion de Spark, ya que hemos concluido con lo esperado en la actividad."
   ]
  },
  {
   "cell_type": "code",
   "execution_count": 15,
   "metadata": {},
   "outputs": [],
   "source": [
    "spark.stop()"
   ]
  }
 ],
 "metadata": {
  "kernelspec": {
   "display_name": "Python 3 (ipykernel)",
   "language": "python",
   "name": "python3"
  },
  "language_info": {
   "codemirror_mode": {
    "name": "ipython",
    "version": 3
   },
   "file_extension": ".py",
   "mimetype": "text/x-python",
   "name": "python",
   "nbconvert_exporter": "python",
   "pygments_lexer": "ipython3",
   "version": "3.7.13"
  }
 },
 "nbformat": 4,
 "nbformat_minor": 4
}
